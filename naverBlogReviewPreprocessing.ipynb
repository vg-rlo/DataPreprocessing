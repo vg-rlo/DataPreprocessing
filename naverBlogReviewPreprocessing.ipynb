{
 "cells": [
  {
   "cell_type": "markdown",
   "id": "1dc279fd",
   "metadata": {},
   "source": [
    "# Naver Blog Review Preprocessing"
   ]
  },
  {
   "cell_type": "markdown",
   "id": "da609240",
   "metadata": {},
   "source": [
    "# 목표1: 문장 분리!!"
   ]
  },
  {
   "cell_type": "markdown",
   "id": "d68d356a",
   "metadata": {},
   "source": [
    "## 사용 라이브러리 설치"
   ]
  },
  {
   "cell_type": "code",
   "execution_count": 1,
   "id": "970b64fb",
   "metadata": {},
   "outputs": [
    {
     "name": "stdout",
     "output_type": "stream",
     "text": [
      "Requirement already satisfied: kss in /home/aiffel-dj19/anaconda3/envs/aiffel/lib/python3.7/site-packages (2.5.1)\r\n"
     ]
    }
   ],
   "source": [
    "# 한글 문장 분리기 \n",
    "!pip install kss # korean sentence splitter"
   ]
  },
  {
   "cell_type": "code",
   "execution_count": 2,
   "id": "63257986",
   "metadata": {
    "scrolled": false
   },
   "outputs": [
    {
     "name": "stdout",
     "output_type": "stream",
     "text": [
      "Requirement already satisfied: requests in /home/aiffel-dj19/anaconda3/envs/aiffel/lib/python3.7/site-packages (2.25.1)\n",
      "Requirement already satisfied: urllib3<1.27,>=1.21.1 in /home/aiffel-dj19/anaconda3/envs/aiffel/lib/python3.7/site-packages (from requests) (1.26.4)\n",
      "Requirement already satisfied: certifi>=2017.4.17 in /home/aiffel-dj19/anaconda3/envs/aiffel/lib/python3.7/site-packages (from requests) (2020.12.5)\n",
      "Requirement already satisfied: idna<3,>=2.5 in /home/aiffel-dj19/anaconda3/envs/aiffel/lib/python3.7/site-packages (from requests) (2.10)\n",
      "Requirement already satisfied: chardet<5,>=3.0.2 in /home/aiffel-dj19/anaconda3/envs/aiffel/lib/python3.7/site-packages (from requests) (4.0.0)\n",
      "Collecting git+https://github.com/ssut/py-hanspell.git\n",
      "  Cloning https://github.com/ssut/py-hanspell.git to /tmp/pip-req-build-w0ka_7a6\n",
      "  Running command git clone -q https://github.com/ssut/py-hanspell.git /tmp/pip-req-build-w0ka_7a6\n",
      "Requirement already satisfied: requests in /home/aiffel-dj19/anaconda3/envs/aiffel/lib/python3.7/site-packages (from py-hanspell==1.1) (2.25.1)\n",
      "Requirement already satisfied: urllib3<1.27,>=1.21.1 in /home/aiffel-dj19/anaconda3/envs/aiffel/lib/python3.7/site-packages (from requests->py-hanspell==1.1) (1.26.4)\n",
      "Requirement already satisfied: idna<3,>=2.5 in /home/aiffel-dj19/anaconda3/envs/aiffel/lib/python3.7/site-packages (from requests->py-hanspell==1.1) (2.10)\n",
      "Requirement already satisfied: chardet<5,>=3.0.2 in /home/aiffel-dj19/anaconda3/envs/aiffel/lib/python3.7/site-packages (from requests->py-hanspell==1.1) (4.0.0)\n",
      "Requirement already satisfied: certifi>=2017.4.17 in /home/aiffel-dj19/anaconda3/envs/aiffel/lib/python3.7/site-packages (from requests->py-hanspell==1.1) (2020.12.5)\n",
      "Requirement already satisfied: py-hangul-checker in /home/aiffel-dj19/anaconda3/envs/aiffel/lib/python3.7/site-packages (0.2.0)\n",
      "Requirement already satisfied: requests in /home/aiffel-dj19/anaconda3/envs/aiffel/lib/python3.7/site-packages (from py-hangul-checker) (2.25.1)\n",
      "Requirement already satisfied: beautifulsoup4 in /home/aiffel-dj19/anaconda3/envs/aiffel/lib/python3.7/site-packages (from py-hangul-checker) (4.6.0)\n",
      "Requirement already satisfied: certifi>=2017.4.17 in /home/aiffel-dj19/anaconda3/envs/aiffel/lib/python3.7/site-packages (from requests->py-hangul-checker) (2020.12.5)\n",
      "Requirement already satisfied: chardet<5,>=3.0.2 in /home/aiffel-dj19/anaconda3/envs/aiffel/lib/python3.7/site-packages (from requests->py-hangul-checker) (4.0.0)\n",
      "Requirement already satisfied: idna<3,>=2.5 in /home/aiffel-dj19/anaconda3/envs/aiffel/lib/python3.7/site-packages (from requests->py-hangul-checker) (2.10)\n",
      "Requirement already satisfied: urllib3<1.27,>=1.21.1 in /home/aiffel-dj19/anaconda3/envs/aiffel/lib/python3.7/site-packages (from requests->py-hangul-checker) (1.26.4)\n"
     ]
    }
   ],
   "source": [
    "# 한글 맞춤법 검사기\n",
    "!pip install requests # py-hanspell 의존 라이브러리\n",
    "!pip install git+https://github.com/ssut/py-hanspell.git # py-hanspell\n",
    "!pip install py-hangul-checker # py-hangul-checker"
   ]
  },
  {
   "cell_type": "code",
   "execution_count": 3,
   "id": "aaeebd61",
   "metadata": {},
   "outputs": [
    {
     "name": "stdout",
     "output_type": "stream",
     "text": [
      "Collecting git+https://github.com/haven-jeon/PyKoSpacing.git\n",
      "  Cloning https://github.com/haven-jeon/PyKoSpacing.git to /tmp/pip-req-build-9p5dv2oj\n",
      "  Running command git clone -q https://github.com/haven-jeon/PyKoSpacing.git /tmp/pip-req-build-9p5dv2oj\n",
      "Requirement already satisfied: tensorflow==2.5.0 in /home/aiffel-dj19/anaconda3/envs/aiffel/lib/python3.7/site-packages (from pykospacing==0.5) (2.5.0)\n",
      "Requirement already satisfied: h5py==3.1.0 in /home/aiffel-dj19/anaconda3/envs/aiffel/lib/python3.7/site-packages (from pykospacing==0.5) (3.1.0)\n",
      "Collecting argparse>=1.4.0\n",
      "  Using cached argparse-1.4.0-py2.py3-none-any.whl (23 kB)\n",
      "Requirement already satisfied: cached-property in /home/aiffel-dj19/anaconda3/envs/aiffel/lib/python3.7/site-packages (from h5py==3.1.0->pykospacing==0.5) (1.5.2)\n",
      "Requirement already satisfied: numpy>=1.14.5 in /home/aiffel-dj19/anaconda3/envs/aiffel/lib/python3.7/site-packages (from h5py==3.1.0->pykospacing==0.5) (1.19.5)\n",
      "Requirement already satisfied: flatbuffers~=1.12.0 in /home/aiffel-dj19/anaconda3/envs/aiffel/lib/python3.7/site-packages (from tensorflow==2.5.0->pykospacing==0.5) (1.12)\n",
      "Requirement already satisfied: wheel~=0.35 in /home/aiffel-dj19/anaconda3/envs/aiffel/lib/python3.7/site-packages (from tensorflow==2.5.0->pykospacing==0.5) (0.36.2)\n",
      "Requirement already satisfied: grpcio~=1.34.0 in /home/aiffel-dj19/anaconda3/envs/aiffel/lib/python3.7/site-packages (from tensorflow==2.5.0->pykospacing==0.5) (1.34.1)\n",
      "Requirement already satisfied: absl-py~=0.10 in /home/aiffel-dj19/anaconda3/envs/aiffel/lib/python3.7/site-packages (from tensorflow==2.5.0->pykospacing==0.5) (0.12.0)\n",
      "Requirement already satisfied: typing-extensions~=3.7.4 in /home/aiffel-dj19/anaconda3/envs/aiffel/lib/python3.7/site-packages (from tensorflow==2.5.0->pykospacing==0.5) (3.7.4.3)\n",
      "Requirement already satisfied: google-pasta~=0.2 in /home/aiffel-dj19/anaconda3/envs/aiffel/lib/python3.7/site-packages (from tensorflow==2.5.0->pykospacing==0.5) (0.2.0)\n",
      "Requirement already satisfied: astunparse~=1.6.3 in /home/aiffel-dj19/anaconda3/envs/aiffel/lib/python3.7/site-packages (from tensorflow==2.5.0->pykospacing==0.5) (1.6.3)\n",
      "Requirement already satisfied: gast==0.4.0 in /home/aiffel-dj19/anaconda3/envs/aiffel/lib/python3.7/site-packages (from tensorflow==2.5.0->pykospacing==0.5) (0.4.0)\n",
      "Requirement already satisfied: keras-preprocessing~=1.1.2 in /home/aiffel-dj19/anaconda3/envs/aiffel/lib/python3.7/site-packages (from tensorflow==2.5.0->pykospacing==0.5) (1.1.2)\n",
      "Requirement already satisfied: opt-einsum~=3.3.0 in /home/aiffel-dj19/anaconda3/envs/aiffel/lib/python3.7/site-packages (from tensorflow==2.5.0->pykospacing==0.5) (3.3.0)\n",
      "Requirement already satisfied: wrapt~=1.12.1 in /home/aiffel-dj19/anaconda3/envs/aiffel/lib/python3.7/site-packages (from tensorflow==2.5.0->pykospacing==0.5) (1.12.1)\n",
      "Requirement already satisfied: termcolor~=1.1.0 in /home/aiffel-dj19/anaconda3/envs/aiffel/lib/python3.7/site-packages (from tensorflow==2.5.0->pykospacing==0.5) (1.1.0)\n",
      "Requirement already satisfied: tensorboard~=2.5 in /home/aiffel-dj19/anaconda3/envs/aiffel/lib/python3.7/site-packages (from tensorflow==2.5.0->pykospacing==0.5) (2.5.0)\n",
      "Requirement already satisfied: keras-nightly~=2.5.0.dev in /home/aiffel-dj19/anaconda3/envs/aiffel/lib/python3.7/site-packages (from tensorflow==2.5.0->pykospacing==0.5) (2.5.0.dev2021032900)\n",
      "Requirement already satisfied: protobuf>=3.9.2 in /home/aiffel-dj19/anaconda3/envs/aiffel/lib/python3.7/site-packages (from tensorflow==2.5.0->pykospacing==0.5) (3.15.8)\n",
      "Requirement already satisfied: six~=1.15.0 in /home/aiffel-dj19/anaconda3/envs/aiffel/lib/python3.7/site-packages (from tensorflow==2.5.0->pykospacing==0.5) (1.15.0)\n",
      "Requirement already satisfied: tensorflow-estimator<2.6.0,>=2.5.0rc0 in /home/aiffel-dj19/anaconda3/envs/aiffel/lib/python3.7/site-packages (from tensorflow==2.5.0->pykospacing==0.5) (2.5.0)\n",
      "Requirement already satisfied: tensorboard-plugin-wit>=1.6.0 in /home/aiffel-dj19/anaconda3/envs/aiffel/lib/python3.7/site-packages (from tensorboard~=2.5->tensorflow==2.5.0->pykospacing==0.5) (1.8.0)\n",
      "Requirement already satisfied: werkzeug>=0.11.15 in /home/aiffel-dj19/anaconda3/envs/aiffel/lib/python3.7/site-packages (from tensorboard~=2.5->tensorflow==2.5.0->pykospacing==0.5) (1.0.1)\n",
      "Requirement already satisfied: requests<3,>=2.21.0 in /home/aiffel-dj19/anaconda3/envs/aiffel/lib/python3.7/site-packages (from tensorboard~=2.5->tensorflow==2.5.0->pykospacing==0.5) (2.25.1)\n",
      "Requirement already satisfied: google-auth<2,>=1.6.3 in /home/aiffel-dj19/anaconda3/envs/aiffel/lib/python3.7/site-packages (from tensorboard~=2.5->tensorflow==2.5.0->pykospacing==0.5) (1.30.0)\n",
      "Requirement already satisfied: google-auth-oauthlib<0.5,>=0.4.1 in /home/aiffel-dj19/anaconda3/envs/aiffel/lib/python3.7/site-packages (from tensorboard~=2.5->tensorflow==2.5.0->pykospacing==0.5) (0.4.4)\n",
      "Requirement already satisfied: setuptools>=41.0.0 in /home/aiffel-dj19/anaconda3/envs/aiffel/lib/python3.7/site-packages (from tensorboard~=2.5->tensorflow==2.5.0->pykospacing==0.5) (52.0.0.post20210125)\n",
      "Requirement already satisfied: markdown>=2.6.8 in /home/aiffel-dj19/anaconda3/envs/aiffel/lib/python3.7/site-packages (from tensorboard~=2.5->tensorflow==2.5.0->pykospacing==0.5) (3.3.4)\n",
      "Requirement already satisfied: tensorboard-data-server<0.7.0,>=0.6.0 in /home/aiffel-dj19/anaconda3/envs/aiffel/lib/python3.7/site-packages (from tensorboard~=2.5->tensorflow==2.5.0->pykospacing==0.5) (0.6.0)\n",
      "Requirement already satisfied: pyasn1-modules>=0.2.1 in /home/aiffel-dj19/anaconda3/envs/aiffel/lib/python3.7/site-packages (from google-auth<2,>=1.6.3->tensorboard~=2.5->tensorflow==2.5.0->pykospacing==0.5) (0.2.8)\n",
      "Requirement already satisfied: cachetools<5.0,>=2.0.0 in /home/aiffel-dj19/anaconda3/envs/aiffel/lib/python3.7/site-packages (from google-auth<2,>=1.6.3->tensorboard~=2.5->tensorflow==2.5.0->pykospacing==0.5) (4.2.2)\n",
      "Requirement already satisfied: rsa<5,>=3.1.4 in /home/aiffel-dj19/anaconda3/envs/aiffel/lib/python3.7/site-packages (from google-auth<2,>=1.6.3->tensorboard~=2.5->tensorflow==2.5.0->pykospacing==0.5) (4.7.2)\n",
      "Requirement already satisfied: requests-oauthlib>=0.7.0 in /home/aiffel-dj19/anaconda3/envs/aiffel/lib/python3.7/site-packages (from google-auth-oauthlib<0.5,>=0.4.1->tensorboard~=2.5->tensorflow==2.5.0->pykospacing==0.5) (1.3.0)\n",
      "Requirement already satisfied: importlib-metadata in /home/aiffel-dj19/anaconda3/envs/aiffel/lib/python3.7/site-packages (from markdown>=2.6.8->tensorboard~=2.5->tensorflow==2.5.0->pykospacing==0.5) (3.10.0)\n",
      "Requirement already satisfied: pyasn1<0.5.0,>=0.4.6 in /home/aiffel-dj19/anaconda3/envs/aiffel/lib/python3.7/site-packages (from pyasn1-modules>=0.2.1->google-auth<2,>=1.6.3->tensorboard~=2.5->tensorflow==2.5.0->pykospacing==0.5) (0.4.8)\n",
      "Requirement already satisfied: chardet<5,>=3.0.2 in /home/aiffel-dj19/anaconda3/envs/aiffel/lib/python3.7/site-packages (from requests<3,>=2.21.0->tensorboard~=2.5->tensorflow==2.5.0->pykospacing==0.5) (4.0.0)\n",
      "Requirement already satisfied: certifi>=2017.4.17 in /home/aiffel-dj19/anaconda3/envs/aiffel/lib/python3.7/site-packages (from requests<3,>=2.21.0->tensorboard~=2.5->tensorflow==2.5.0->pykospacing==0.5) (2020.12.5)\n",
      "Requirement already satisfied: urllib3<1.27,>=1.21.1 in /home/aiffel-dj19/anaconda3/envs/aiffel/lib/python3.7/site-packages (from requests<3,>=2.21.0->tensorboard~=2.5->tensorflow==2.5.0->pykospacing==0.5) (1.26.4)\n",
      "Requirement already satisfied: idna<3,>=2.5 in /home/aiffel-dj19/anaconda3/envs/aiffel/lib/python3.7/site-packages (from requests<3,>=2.21.0->tensorboard~=2.5->tensorflow==2.5.0->pykospacing==0.5) (2.10)\n",
      "Requirement already satisfied: oauthlib>=3.0.0 in /home/aiffel-dj19/anaconda3/envs/aiffel/lib/python3.7/site-packages (from requests-oauthlib>=0.7.0->google-auth-oauthlib<0.5,>=0.4.1->tensorboard~=2.5->tensorflow==2.5.0->pykospacing==0.5) (3.1.0)\n",
      "Requirement already satisfied: zipp>=0.5 in /home/aiffel-dj19/anaconda3/envs/aiffel/lib/python3.7/site-packages (from importlib-metadata->markdown>=2.6.8->tensorboard~=2.5->tensorflow==2.5.0->pykospacing==0.5) (3.4.1)\n",
      "Installing collected packages: argparse\n",
      "Successfully installed argparse-1.4.0\n"
     ]
    }
   ],
   "source": [
    "# 한글 띄어쓰기 교정기 \n",
    "!pip install git+https://github.com/haven-jeon/PyKoSpacing.git"
   ]
  },
  {
   "cell_type": "markdown",
   "id": "ec790a2b",
   "metadata": {},
   "source": [
    "[soynlp](https://github.com/lovit/soynlp)"
   ]
  },
  {
   "cell_type": "code",
   "execution_count": 4,
   "id": "6ee9f80f",
   "metadata": {},
   "outputs": [
    {
     "name": "stdout",
     "output_type": "stream",
     "text": [
      "Requirement already satisfied: soynlp in /home/aiffel-dj19/anaconda3/envs/aiffel/lib/python3.7/site-packages (0.0.493)\n",
      "Requirement already satisfied: numpy>=1.12.1 in /home/aiffel-dj19/anaconda3/envs/aiffel/lib/python3.7/site-packages (from soynlp) (1.19.5)\n",
      "Requirement already satisfied: psutil>=5.0.1 in /home/aiffel-dj19/anaconda3/envs/aiffel/lib/python3.7/site-packages (from soynlp) (5.8.0)\n",
      "Requirement already satisfied: scikit-learn>=0.20.0 in /home/aiffel-dj19/anaconda3/envs/aiffel/lib/python3.7/site-packages (from soynlp) (0.24.1)\n",
      "Requirement already satisfied: scipy>=1.1.0 in /home/aiffel-dj19/anaconda3/envs/aiffel/lib/python3.7/site-packages (from soynlp) (1.6.2)\n",
      "Requirement already satisfied: threadpoolctl>=2.0.0 in /home/aiffel-dj19/anaconda3/envs/aiffel/lib/python3.7/site-packages (from scikit-learn>=0.20.0->soynlp) (2.1.0)\n",
      "Requirement already satisfied: joblib>=0.11 in /home/aiffel-dj19/anaconda3/envs/aiffel/lib/python3.7/site-packages (from scikit-learn>=0.20.0->soynlp) (1.0.1)\n"
     ]
    }
   ],
   "source": [
    "# 고유명사 추출에 용이한 토크나이저\n",
    "!pip install soynlp"
   ]
  },
  {
   "cell_type": "markdown",
   "id": "ac0a2be0",
   "metadata": {},
   "source": [
    "## 파일 경로 설정 "
   ]
  },
  {
   "cell_type": "code",
   "execution_count": 5,
   "id": "1a1538e8",
   "metadata": {},
   "outputs": [
    {
     "name": "stdout",
     "output_type": "stream",
     "text": [
      "/home/aiffel-dj19/jungcheck/DataPreprocessing\r\n"
     ]
    }
   ],
   "source": [
    "!mkdir -p ~/jungcheck/DataPreprocessing    \n",
    "!pwd    \n",
    "!cd ~/jungcheck    \n",
    "!mkdir -p ./data/google_review    \n",
    "!mkdir -p ./data/naver_review  "
   ]
  },
  {
   "cell_type": "code",
   "execution_count": 6,
   "id": "03045413",
   "metadata": {},
   "outputs": [
    {
     "name": "stdout",
     "output_type": "stream",
     "text": [
      "/home/aiffel-dj19/jungcheck/DataPreprocessing\r\n"
     ]
    }
   ],
   "source": [
    "# 현재 경로 확인 \n",
    "!pwd"
   ]
  },
  {
   "cell_type": "markdown",
   "id": "bc8b7742",
   "metadata": {},
   "source": [
    "아래 tree 명령어로 상위 폴더(jungcheck)내 파일 구성을 볼 수 있습니다.    "
   ]
  },
  {
   "cell_type": "code",
   "execution_count": 7,
   "id": "647c4652",
   "metadata": {
    "scrolled": false
   },
   "outputs": [
    {
     "name": "stdout",
     "output_type": "stream",
     "text": [
      "\u001b[01;34m.\u001b[00m\r\n",
      "├── \u001b[01;34mdata\u001b[00m\r\n",
      "│   ├── \u001b[01;34mgoogle_review\u001b[00m\r\n",
      "│   │   ├── 한빛탑.csv\r\n",
      "│   │   ├── 엑스포다리.csv\r\n",
      "│   │   ├── 엑스포음악분수.csv\r\n",
      "│   │   ├── 엑스포과학공원.csv\r\n",
      "│   │   └── 세계엑스포기념품박물관.csv\r\n",
      "│   └── \u001b[01;34mnaver_review\u001b[00m\r\n",
      "│       ├── 오월드 관광 대전.csv\r\n",
      "│       ├── 오월드 여행 후기.csv\r\n",
      "│       ├── 오월드 여행 대전.csv\r\n",
      "│       ├── 오월드 관광 주말에.csv\r\n",
      "│       ├── 오월드 여행 주말에.csv\r\n",
      "│       ├── 뿌리공원 여행 후기.csv\r\n",
      "│       ├── 뿌리공원 관광 후기.csv\r\n",
      "│       ├── 뿌리공원 관광 대전.csv\r\n",
      "│       ├── 뿌리공원 여행 대전.csv\r\n",
      "│       ├── 뿌리공원 여행 주말에.csv\r\n",
      "│       ├── 뿌리공원 관광 주말에.csv\r\n",
      "│       ├── 엑스포과학공원 여행 대전.csv\r\n",
      "│       └── 엑스포과학공원 여행 후기.csv\r\n",
      "├── \u001b[01;34mfiltered\u001b[00m\r\n",
      "│   ├── \u001b[01;34mgoogle_review\u001b[00m\r\n",
      "│   │   └── google_expo_sample.csv\r\n",
      "│   └── \u001b[01;34mnaver_review\u001b[00m\r\n",
      "├── googleReviewPreprocessing.ipynb\r\n",
      "├── naverReviewPreprocessing.ipynb\r\n",
      "├── naverReviewPreprocessingV0.ipynb\r\n",
      "└── \u001b[01;34mreference\u001b[00m\r\n",
      "    └── Comparative Study of Tokenizer Based on Learning for Sentiment Analysis.pdf\r\n",
      "\r\n",
      "7 directories, 23 files\r\n"
     ]
    }
   ],
   "source": [
    "# jungcheck 폴더내 경로 확인 \n",
    "!tree -L 3 -N ."
   ]
  },
  {
   "cell_type": "markdown",
   "id": "d0fcc730",
   "metadata": {},
   "source": [
    "## Data Load "
   ]
  },
  {
   "cell_type": "code",
   "execution_count": 8,
   "id": "cb142191",
   "metadata": {},
   "outputs": [],
   "source": [
    "import os \n",
    "import pandas as pd \n",
    "import glob"
   ]
  },
  {
   "cell_type": "code",
   "execution_count": 9,
   "id": "06592b43",
   "metadata": {},
   "outputs": [
    {
     "data": {
      "text/plain": [
       "'/home/aiffel-dj19/jungcheck/DataPreprocessing/data/naver_review/'"
      ]
     },
     "execution_count": 9,
     "metadata": {},
     "output_type": "execute_result"
    }
   ],
   "source": [
    "data_path = os.path.join(os.getcwd(), 'data/naver_review/')\n",
    "data_path"
   ]
  },
  {
   "cell_type": "code",
   "execution_count": 10,
   "id": "5328adf1",
   "metadata": {
    "scrolled": true
   },
   "outputs": [
    {
     "data": {
      "text/plain": [
       "['오월드 관광 주말에.csv',\n",
       " '오월드 관광 대전.csv',\n",
       " '엑스포과학공원 여행 대전.csv',\n",
       " '뿌리공원 여행 주말에.csv',\n",
       " '오월드 여행 주말에.csv',\n",
       " '뿌리공원 관광 주말에.csv',\n",
       " '오월드 여행 후기.csv',\n",
       " '뿌리공원 여행 후기.csv',\n",
       " '뿌리공원 관광 후기.csv',\n",
       " '뿌리공원 관광 대전.csv',\n",
       " '뿌리공원 여행 대전.csv',\n",
       " '엑스포과학공원 여행 후기.csv',\n",
       " '오월드 여행 대전.csv']"
      ]
     },
     "execution_count": 10,
     "metadata": {},
     "output_type": "execute_result"
    }
   ],
   "source": [
    "files = os.listdir(data_path)\n",
    "files"
   ]
  },
  {
   "cell_type": "code",
   "execution_count": 11,
   "id": "1b6518e9",
   "metadata": {
    "scrolled": true
   },
   "outputs": [
    {
     "data": {
      "text/plain": [
       "'/home/aiffel-dj19/jungcheck/DataPreprocessing/data/naver_review/오월드 관광 주말에.csv'"
      ]
     },
     "execution_count": 11,
     "metadata": {},
     "output_type": "execute_result"
    }
   ],
   "source": [
    "test_file = os.path.join(data_path, files[0])\n",
    "test_file"
   ]
  },
  {
   "cell_type": "code",
   "execution_count": 12,
   "id": "f0ddf934",
   "metadata": {},
   "outputs": [],
   "source": [
    "target = '오월드'"
   ]
  },
  {
   "cell_type": "code",
   "execution_count": 13,
   "id": "f6dc7cc1",
   "metadata": {},
   "outputs": [
    {
     "data": {
      "text/plain": [
       "['오월드 관광 주말에.csv',\n",
       " '오월드 관광 대전.csv',\n",
       " '오월드 여행 주말에.csv',\n",
       " '오월드 여행 후기.csv',\n",
       " '오월드 여행 대전.csv']"
      ]
     },
     "execution_count": 13,
     "metadata": {},
     "output_type": "execute_result"
    }
   ],
   "source": [
    "target_list = []\n",
    "\n",
    "for file_name in files:\n",
    "    if target in file_name:\n",
    "        target_list.append(file_name)\n",
    "target_list"
   ]
  },
  {
   "cell_type": "markdown",
   "id": "6ed69648",
   "metadata": {},
   "source": [
    "## Data 확인"
   ]
  },
  {
   "cell_type": "markdown",
   "id": "a905dfeb",
   "metadata": {},
   "source": [
    "네이버 블로그 리뷰는 글이 길기 때문에 pandas의 option을 변경해줘야합니다. "
   ]
  },
  {
   "cell_type": "code",
   "execution_count": 14,
   "id": "db4b5d80",
   "metadata": {
    "scrolled": false
   },
   "outputs": [],
   "source": [
    "# 전체 option 확인\n",
    "# pd.describe_option()"
   ]
  },
  {
   "cell_type": "code",
   "execution_count": 15,
   "id": "b1ae41ee",
   "metadata": {},
   "outputs": [
    {
     "name": "stdout",
     "output_type": "stream",
     "text": [
      "60\n",
      "20\n",
      "True\n"
     ]
    }
   ],
   "source": [
    "# get pandas option \n",
    "print(pd.get_option('display.max_rows'))\n",
    "print(pd.get_option('display.max_columns'))\n",
    "print(pd.get_option('display.expand_frame_repr'))"
   ]
  },
  {
   "cell_type": "code",
   "execution_count": 16,
   "id": "9750e031",
   "metadata": {
    "scrolled": true
   },
   "outputs": [],
   "source": [
    "# set pandas option \n",
    "pd.set_option('display.max_rows', None) # 전체 행 보기\n",
    "pd.set_option('display.max_columns', None) # 전체 열 보기 \n",
    "pd.set_option('display.expand_frame_repr', False)"
   ]
  },
  {
   "cell_type": "code",
   "execution_count": 17,
   "id": "0e2b3613",
   "metadata": {},
   "outputs": [
    {
     "data": {
      "text/plain": [
       "126"
      ]
     },
     "execution_count": 17,
     "metadata": {},
     "output_type": "execute_result"
    }
   ],
   "source": [
    "test_df = pd.read_csv(test_file, names=['date', 'description', 'text', 'name'], encoding='utf-8')  # csv 파일 읽기\n",
    "len(test_df)"
   ]
  },
  {
   "cell_type": "code",
   "execution_count": 18,
   "id": "bf270dac",
   "metadata": {
    "scrolled": true
   },
   "outputs": [
    {
     "data": {
      "text/html": [
       "<div>\n",
       "<style scoped>\n",
       "    .dataframe tbody tr th:only-of-type {\n",
       "        vertical-align: middle;\n",
       "    }\n",
       "\n",
       "    .dataframe tbody tr th {\n",
       "        vertical-align: top;\n",
       "    }\n",
       "\n",
       "    .dataframe thead th {\n",
       "        text-align: right;\n",
       "    }\n",
       "</style>\n",
       "<table border=\"1\" class=\"dataframe\">\n",
       "  <thead>\n",
       "    <tr style=\"text-align: right;\">\n",
       "      <th></th>\n",
       "      <th>date</th>\n",
       "      <th>description</th>\n",
       "      <th>text</th>\n",
       "      <th>name</th>\n",
       "    </tr>\n",
       "  </thead>\n",
       "  <tbody>\n",
       "    <tr>\n",
       "      <th>0</th>\n",
       "      <td>17.06.22</td>\n",
       "      <td>대전관광명소 오월드 튤립축제&amp;amp; 사파리투어 대전관광명소 중 아이들이 가장 좋아...</td>\n",
       "      <td>\\n\\n대전관광명소오월드 튤립축제&amp; 사파리투어대전관광명소 중 아이들이 가장 좋아할 ...</td>\n",
       "      <td>친절한 혁명가의 tiNY house</td>\n",
       "    </tr>\n",
       "    <tr>\n",
       "      <th>1</th>\n",
       "      <td>17.09.28</td>\n",
       "      <td>오월드 전국에서 오는 동물원중 하나입니다. 주말에 특히 사람이 붐비는데요 주차시설 ...</td>\n",
       "      <td>\\n\\n안녕하세요추석도 얼마 남지않앗네요즐거운 명절 보내시기 바랍니다이번 매물은 오...</td>\n",
       "      <td>올레공인중개사무소</td>\n",
       "    </tr>\n",
       "    <tr>\n",
       "      <th>2</th>\n",
       "      <td>15.10.19</td>\n",
       "      <td>두 꼬밍이들 기어코 킥보드를 끌고 나온다규ㅡ.,ㅡ #대전동물원 #오월드 입구에보면,...</td>\n",
       "      <td>\\n\\n몇주전부터 가려고했으나,날씨와 시간이 협조해주지않은 관계로 미뤄진동물원 나들...</td>\n",
       "      <td>beautiful my life~♡</td>\n",
       "    </tr>\n",
       "    <tr>\n",
       "      <th>3</th>\n",
       "      <td>14.11.02</td>\n",
       "      <td>평소 주말은 사람들이 너무 많아 대기시간도 길고 복잡하죠ㅠ 아점을 먹고 간식거리 챙...</td>\n",
       "      <td>\\n\\n비오는날 놀이공원, 동물원/ 대전 오월드\\n \\n \\n전날 일기예보를 보니 ...</td>\n",
       "      <td>공존센터</td>\n",
       "    </tr>\n",
       "    <tr>\n",
       "      <th>4</th>\n",
       "      <td>17.04.14</td>\n",
       "      <td>이번 주말에는 화사한 봄기운이 가득한 오월드 튤립축제를 방문해보시는 건, 어떨까요?...</td>\n",
       "      <td>\\n\\n 거리 곳곳 활짝 핀 봄꽃들을 보면 절로 미소가 지어지는 계절인데요. 이번 ...</td>\n",
       "      <td>대전시인터넷방송 공식블로그</td>\n",
       "    </tr>\n",
       "  </tbody>\n",
       "</table>\n",
       "</div>"
      ],
      "text/plain": [
       "       date                                        description                                               text                 name\n",
       "0  17.06.22  대전관광명소 오월드 튤립축제&amp; 사파리투어 대전관광명소 중 아이들이 가장 좋아...  \\n\\n대전관광명소오월드 튤립축제& 사파리투어대전관광명소 중 아이들이 가장 좋아할 ...  친절한 혁명가의 tiNY house\n",
       "1  17.09.28  오월드 전국에서 오는 동물원중 하나입니다. 주말에 특히 사람이 붐비는데요 주차시설 ...  \\n\\n안녕하세요추석도 얼마 남지않앗네요즐거운 명절 보내시기 바랍니다이번 매물은 오...            올레공인중개사무소\n",
       "2  15.10.19  두 꼬밍이들 기어코 킥보드를 끌고 나온다규ㅡ.,ㅡ #대전동물원 #오월드 입구에보면,...  \\n\\n몇주전부터 가려고했으나,날씨와 시간이 협조해주지않은 관계로 미뤄진동물원 나들...  beautiful my life~♡\n",
       "3  14.11.02  평소 주말은 사람들이 너무 많아 대기시간도 길고 복잡하죠ㅠ 아점을 먹고 간식거리 챙...  \\n\\n비오는날 놀이공원, 동물원/ 대전 오월드\\n \\n \\n전날 일기예보를 보니 ...                 공존센터\n",
       "4  17.04.14  이번 주말에는 화사한 봄기운이 가득한 오월드 튤립축제를 방문해보시는 건, 어떨까요?...  \\n\\n 거리 곳곳 활짝 핀 봄꽃들을 보면 절로 미소가 지어지는 계절인데요. 이번 ...       대전시인터넷방송 공식블로그"
      ]
     },
     "execution_count": 18,
     "metadata": {},
     "output_type": "execute_result"
    }
   ],
   "source": [
    "# test_df    # 전체 내용 보기\n",
    "test_df.head() # 앞에 5행만 보기"
   ]
  },
  {
   "cell_type": "code",
   "execution_count": 19,
   "id": "44101bb3",
   "metadata": {},
   "outputs": [
    {
     "name": "stdout",
     "output_type": "stream",
     "text": [
      "2206\n",
      "\n",
      "\n",
      "대전관광명소오월드 튤립축제& 사파리투어대전관광명소 중 아이들이 가장 좋아할 만한 장소는 아마 오월드가 아닐까 싶습니다.특히 봄에는 다양한 플라워 축제로 어른들까지 만족시켜줄 수 있는 장소였어요.4월에 있었던 오월드 튤립축제에는 주말이라 그런지 사람들이 차~암 많더라고요.꽃구경하러 겸사겸사 가긴 했었지만알록달록 놀이기구들을 보자마자 흥분하던 아이들.그러나 아이들이 뭔가를 타고 싶어해도 줄을 많이 서야 하니 아주 골치가...그래도 아침일찍 도착을 한 덕분에 서너가지 정도는 적당히 줄을 서고 아이들에게 놀이기구를 태워줄 수가 있었습니다.할머니, 할아버지가 곁에서 봐주시며 손을 흔들어 주시고계셔서 더욱 즐거웠던 아이들.놀이기구만 몇 개 태워줬는데 어느새 점심시간이 돼버렸어요.아이들 챙기랴~ 부모님 챙기랴~ㅎㅎㅎ오월드를 잘 즐기는 방법에 대한 팁이 별로 없던 상황에놀이기구 줄을 서면서 옆에 같이 줄을 서던 다른 엄마 덕에 알게 된 사실은??오월드에서는 사파리투어는 꼭 하고 가야 한다는...아~~~그렇군요!열심히 마지막으로 줄을 또 한번 서서 부모님과 아이들을 위해 사파리 투어까지 하게 되었어요.동물모양 예쁜 사파리투어 버스를 타고 부모님과 아이들을 자리에 앉히고 나니 다들 기대감 폭발~새로운 동물들을 하나하나 만날 때마다 반가운 함성이 여기저기서 터져 나옵니다.우리 아이들도 사파리투어는 처음이었지만연로하신 부모님에게는 더 신기한 체험이 되었던 시간이에요.마치 아이들을 보는 듯, 백두산 호랑이 우리 앞에서 크게 감탄을 하시기도 하고 원숭이들의 빠른 몸짓에귀엽다며 껄껄 웃으시기도 하시던 부모님.하지만 원래 목적이었던 튤립축제를 보러 가기 위해서는 고난이 아주 많았습니다.부모님을 휠체어로 모시고 플라워 랜드까지 가는 길이 대부분 언덕을 올라가듯 경사가 가파른 길밖에는 없어서 말이에요... ㅠ.ㅠ 동물원 쪽으로 휠체어를 밀고 올라갈 때에도 기나긴 비탈 길을 낑낑거리며 올라가던 내가 안쓰러웠는지 중간에 힘 좋으신 몇 분이 도와주시기도 하셨었지요. 하지만 도저히 플라워랜드까지는 무리라며 주변 사람들이 다 고개를 절레절레~하지만 원래 목적이 부모님 꽃구경 시켜드릴 목적이었는데 너무 아쉽기만 했어요.등줄기에서는 땀이 줄줄 흐르고 있고자신은 별로 없었지만 고민고민하다가 결국 부딪혀보자!!뜻이 있으면 길이 있다~플.라.워.랜.드.에.드.디.어.도.착.했.습.니.다. 예쁜 꽃밭들을 마주하면서 아이들 표정도 한껏 밝아지기 시작하네요.물론 중간중간 땅이 고르지 못해 여러 번 휠체어를 아이들이 지키고 서 있어야만 했고빈번하게 화장실을 가셔야 하는 아버님 사정 때문에시간이 많이 지체가 되기도 했었지요.하지만 고생 끝에 낙이 온다는 말이 실감될 정도로 멋지게 조성된 화원들을 하나둘씩 마주하면서 포기하지 않고 오길 정말 잘했다 싶었어요!예쁜 꽃 앞에 앉아 더욱 자세하게 꽃들을 감상하고 있는 딸아이.시댁 앞마당에도 꽃들이 한창 피어나고 있는 중이었지만이렇게 수많은 꽃들의 에너지를 받으시고 이날 약간은 젊어지지 않으셨을까...ㅎㅎㅎ색색의 튤립들이 정원 가득이던 오월드 튤립축제~어릴 때 부모님과 함께 용인자연농원(지금의 에버랜드) 튤립축제에 가서빨간색 땡땡이 원피스를 입고수없이 사진을 찍었던 추억을 곱씹어 보게 되네요.다양한 정원들뿐만이 아니고 곳곳에 분수들이 많아서 보기만 해도 시원했던 플라워 랜드의 전경폭포수같이 물이 떨어지는 계단과 음악에 맞추어 춤을 추는 물줄기들. 터널 분수에서는 소리를 꽥꽥~지르며 물줄기 사이를 아슬아슬하게 통과하는 아이들의 재롱까지 더해지고 있는 중이었어요.여기에 안 왔으면 대체 어쩔뻔 했누~~~아이들 놀이터도 있어서 잠시 놀 수가 있었고 운치 있는 전통 정원이랑 넓은 호수까지 있어서 오월드 내에서는 가장 와볼만한 곳이 아니었나 싶습니다.하. 지. 만... 휠체어 서비스는 다른 대전관광명소 지역에 비해 가장 관리가 소홀했던 곳이어서 매우 실망이었어요.휠체어서비스가 가능하다는 걸 사전에 다 확인을 하고 간 상황이었는데입장료 내고 대여소에 찾아가 보니 전혀 한 대도 대여가능한 휠체어가 없다고 해서 급당황~ 결국 보수가 필요해서 방치되어 있던 휠체어를 어쩔 수 없이 끌고 다니게 되면서 한국이 장애인과 노약자에 대한 배려가 얼마나 낙후되어 있는 나라인가 하는 사실을 다시금 뼈저리게 느꼈던 순간이었습니다. 놀이동산에 수요가 많은 유모차는 수십 대가 준비되어 있으면서휠체어는 단 한 대도 준비가 되어 있지 않다니!단지 오월드에 해당되는 이야기만은 결코 아니었기에 더욱 마음이 씁쓸하기만 하네요~  \n",
      "\n",
      "\n"
     ]
    }
   ],
   "source": [
    "origin_list = test_df.text[0]\n",
    "print(len(test_df.text[0])) # 문자 개수\n",
    "print(test_df.text[0]) # 내용 확인"
   ]
  },
  {
   "cell_type": "code",
   "execution_count": 20,
   "id": "36f4bd4f",
   "metadata": {},
   "outputs": [
    {
     "data": {
      "text/plain": [
       "str"
      ]
     },
     "execution_count": 20,
     "metadata": {},
     "output_type": "execute_result"
    }
   ],
   "source": [
    "type(test_df.text[0])"
   ]
  },
  {
   "cell_type": "markdown",
   "id": "19f98d74",
   "metadata": {},
   "source": [
    "## 문장 분리 "
   ]
  },
  {
   "cell_type": "markdown",
   "id": "1d9e211f",
   "metadata": {},
   "source": [
    "토크나이저를 활용해 'text'에 해당하는 네이버 블로그 본문에 대한 문장 분리를 진행해줍니다. 이러한 문장 분리 관련한 자연어 처리를 Sentence boundary disambiguation(SBD)라고 합니다. 해당 키워드로 검색하면 관련한 자료들이 많이 나옵니다.\n",
    "* [kss(korean sentence splitter)](http://docs.likejazz.com/kss/) 활용 => 한글 SBD 해결에 유용\n",
    "* [spaCy](https://www.facebook.com/groups/TensorFlowKR/permalink/1025310851143306/) => 영어 SBD 해결에 유용"
   ]
  },
  {
   "cell_type": "code",
   "execution_count": 21,
   "id": "f470ed6e",
   "metadata": {},
   "outputs": [],
   "source": [
    "import kss "
   ]
  },
  {
   "cell_type": "code",
   "execution_count": 22,
   "id": "609e9086",
   "metadata": {},
   "outputs": [
    {
     "data": {
      "text/plain": [
       "[['과연 어떻게 할지 궁금합니다', '이거는 마침표없는 문장인데 어떻게 분리해낼까 할 수 있을까나 걱정됩니다']]"
      ]
     },
     "execution_count": 22,
     "metadata": {},
     "output_type": "execute_result"
    }
   ],
   "source": [
    "# 문장에 마침표 없는 경우 어떻게 문장 분리 수행하는지 확인\n",
    "test = ['과연 어떻게 할지 궁금합니다 이거는 마침표없는 문장인데 어떻게 분리해낼까 할 수 있을까나 걱정됩니다']\n",
    "test = list(map(kss.split_sentences, test)) # 문장으로 split\n",
    "test"
   ]
  },
  {
   "cell_type": "code",
   "execution_count": 23,
   "id": "fe0f5b20",
   "metadata": {},
   "outputs": [
    {
     "data": {
      "text/plain": [
       "[['과연 어떻게 할지 궁금하다 이거는 마침표없는 문장인데 어떻게 분리해낼까 할 수 있을까나 걱정됩니다']]"
      ]
     },
     "execution_count": 23,
     "metadata": {},
     "output_type": "execute_result"
    }
   ],
   "source": [
    "# 문장에 마침표 없는 경우 어떻게 문장 분리 수행하는지 확인\n",
    "test = ['과연 어떻게 할지 궁금하다 이거는 마침표없는 문장인데 어떻게 분리해낼까 할 수 있을까나 걱정됩니다']\n",
    "test = list(map(kss.split_sentences, test)) # 문장으로 split\n",
    "test"
   ]
  },
  {
   "cell_type": "code",
   "execution_count": 24,
   "id": "ecfa5628",
   "metadata": {
    "scrolled": false
   },
   "outputs": [],
   "source": [
    "test_df['text'] = test_df['text'].map(kss.split_sentences) # dataframe 문장으로 split\n",
    "# test_list = list(map(kss.split_sentences, test_df['text'][0])) # list로 구성된 문장으로 split"
   ]
  },
  {
   "cell_type": "code",
   "execution_count": 25,
   "id": "c85fb07c",
   "metadata": {},
   "outputs": [
    {
     "data": {
      "text/plain": [
       "['대전관광명소오월드 튤립축제& 사파리투어대전관광명소 중 아이들이 가장 좋아할 만한 장소는 아마\\xa0오월드가 아닐까 싶습니다.',\n",
       " '특히 봄에는 다양한\\xa0플라워 축제로 어른들까지 만족시켜줄 수 있는 장소였어요.',\n",
       " '4월에 있었던 오월드 튤립축제에는 주말이라 그런지\\xa0사람들이 차~암 많더라고요.',\n",
       " '꽃구경하러 겸사겸사 가긴 했었지만알록달록 놀이기구들을 보자마자 흥분하던 아이들.그러나 아이들이 뭔가를 타고 싶어해도 줄을 많이 서야 하니 아주 골치가...',\n",
       " '그래도 아침일찍 도착을 한 덕분에 서너가지 정도는\\xa0적당히 줄을 서고 아이들에게 놀이기구를 태워줄 수가 있었습니다.',\n",
       " '할머니, 할아버지가 곁에서 봐주시며 손을 흔들어 주시고계셔서 더욱 즐거웠던 아이들.놀이기구만 몇 개 태워줬는데 어느새 점심시간이 돼버렸어요.',\n",
       " '아이들 챙기랴~ 부모님 챙기랴~ㅎㅎㅎ오월드를 잘 즐기는 방법에 대한 팁이 별로 없던 상황에놀이기구 줄을 서면서 옆에 같이 줄을 서던 다른 엄마 덕에 알게 된 사실은??오월드에서는 사파리투어는 꼭 하고 가야 한다는...아~~~그렇군요!',\n",
       " '열심히 마지막으로 줄을 또 한번 서서 부모님과 아이들을 위해 사파리 투어까지 하게 되었어요.',\n",
       " '동물모양 예쁜 사파리투어 버스를 타고 부모님과 아이들을\\xa0자리에 앉히고 나니 다들 기대감 폭발~새로운 동물들을 하나하나 만날 때마다 반가운 함성이 여기저기서 터져 나옵니다.',\n",
       " '우리 아이들도 사파리투어는 처음이었지만연로하신 부모님에게는 더\\xa0신기한 체험이 되었던 시간이에요.',\n",
       " '마치 아이들을 보는 듯, 백두산 호랑이 우리 앞에서\\xa0크게 감탄을 하시기도 하고\\xa0원숭이들의 빠른 몸짓에귀엽다며 껄껄 웃으시기도 하시던 부모님.하지만 원래 목적이었던 튤립축제를 보러 가기 위해서는 고난이 아주 많았습니다.',\n",
       " '부모님을 휠체어로 모시고 플라워 랜드까지 가는 길이\\xa0대부분 언덕을 올라가듯 경사가 가파른 길밖에는 없어서 말이에요... ㅠ.ㅠ',\n",
       " '동물원 쪽으로\\xa0휠체어를 밀고\\xa0올라갈 때에도 기나긴 비탈 길을 낑낑거리며 올라가던 내가 안쓰러웠는지\\xa0중간에 힘 좋으신 몇 분이 도와주시기도 하셨었지요.',\n",
       " '하지만 도저히 플라워랜드까지는 무리라며 주변 사람들이 다 고개를 절레절레~하지만 원래 목적이 부모님 꽃구경 시켜드릴 목적이었는데 너무 아쉽기만 했어요.등줄기에서는 땀이 줄줄 흐르고 있고자신은 별로 없었지만 고민고민하다가 결국 부딪혀보자!!',\n",
       " '뜻이 있으면 길이 있다~플.라.',\n",
       " '워.랜.드.에.드.디.어.',\n",
       " '도.착.했.습.니.',\n",
       " '다.',\n",
       " '예쁜 꽃밭들을 마주하면서 아이들 표정도 한껏\\xa0밝아지기 시작하네요.',\n",
       " '물론 중간중간 땅이 고르지 못해 여러 번 휠체어를 아이들이 지키고 서 있어야만 했고빈번하게 화장실을 가셔야 하는 아버님 사정 때문에시간이 많이 지체가 되기도 했었지요.',\n",
       " '하지만 고생 끝에 낙이 온다는 말이 실감될 정도로\\xa0멋지게 조성된 화원들을 하나둘씩 마주하면서 포기하지 않고 오길 정말 잘했다 싶었어요!',\n",
       " '예쁜 꽃 앞에 앉아 더욱 자세하게 꽃들을 감상하고 있는 딸아이.시댁 앞마당에도 꽃들이 한창 피어나고 있는 중이었지만이렇게 수많은 꽃들의 에너지를 받으시고 이날\\xa0약간은 젊어지지 않으셨을까...ㅎㅎㅎ',\n",
       " '색색의 튤립들이 정원 가득이던 오월드 튤립축제~어릴 때 부모님과 함께\\xa0용인자연농원(지금의 에버랜드) 튤립축제에 가서빨간색 땡땡이 원피스를 입고수없이 사진을 찍었던 추억을 곱씹어 보게 되네요.',\n",
       " '다양한 정원들뿐만이 아니고\\xa0곳곳에 분수들이 많아서 보기만 해도 시원했던 플라워 랜드의 전경폭포수같이 물이 떨어지는 계단과 음악에 맞추어 춤을 추는 물줄기들.\\xa0터널 분수에서는 소리를 꽥꽥~지르며\\xa0물줄기 사이를 아슬아슬하게\\xa0통과하는 아이들의 재롱까지 더해지고 있는 중이었어요.',\n",
       " '여기에 안 왔으면 대체 어쩔뻔 했누~~~아이들 놀이터도 있어서 잠시 놀 수가\\xa0있었고\\xa0운치 있는 전통 정원이랑\\xa0넓은 호수까지 있어서 오월드 내에서는 가장 와볼만한 곳이 아니었나 싶습니다.',\n",
       " '하. 지.',\n",
       " '만... 휠체어 서비스는\\xa0다른 대전관광명소 지역에 비해 가장 관리가 소홀했던 곳이어서 매우 실망이었어요.',\n",
       " '휠체어서비스가 가능하다는 걸 사전에 다 확인을 하고 간 상황이었는데입장료 내고 대여소에 찾아가 보니\\xa0전혀 한 대도 대여가능한 휠체어가 없다고 해서 급당황~\\xa0결국 보수가 필요해서 방치되어 있던 휠체어를 어쩔 수 없이 끌고 다니게 되면서\\xa0한국이 장애인과 노약자에 대한 배려가 얼마나 낙후되어 있는 나라인가 하는 사실을 다시금 뼈저리게\\xa0느꼈던 순간이었습니다.',\n",
       " '놀이동산에 수요가 많은\\xa0유모차는 수십 대가 준비되어 있으면서휠체어는 단 한 대도 준비가 되어 있지 않다니!단지 오월드에 해당되는 이야기만은 결코 아니었기에 더욱 마음이 씁쓸하기만 하네요~']"
      ]
     },
     "execution_count": 25,
     "metadata": {},
     "output_type": "execute_result"
    }
   ],
   "source": [
    "test_df['text'][0]\n",
    "# test_list"
   ]
  },
  {
   "cell_type": "code",
   "execution_count": 31,
   "id": "228b3fab",
   "metadata": {
    "scrolled": false
   },
   "outputs": [
    {
     "name": "stdout",
     "output_type": "stream",
     "text": [
      "29\n",
      "0번째 문장: 대전관광명소오월드 튤립축제& 사파리투어대전관광명소 중 아이들이 가장 좋아할 만한 장소는 아마 오월드가 아닐까 싶습니다.\n",
      "1번째 문장: 특히 봄에는 다양한 플라워 축제로 어른들까지 만족시켜줄 수 있는 장소였어요.\n",
      "2번째 문장: 4월에 있었던 오월드 튤립축제에는 주말이라 그런지 사람들이 차~암 많더라고요.\n",
      "3번째 문장: 꽃구경하러 겸사겸사 가긴 했었지만알록달록 놀이기구들을 보자마자 흥분하던 아이들.그러나 아이들이 뭔가를 타고 싶어해도 줄을 많이 서야 하니 아주 골치가...\n",
      "4번째 문장: 그래도 아침일찍 도착을 한 덕분에 서너가지 정도는 적당히 줄을 서고 아이들에게 놀이기구를 태워줄 수가 있었습니다.\n",
      "5번째 문장: 할머니, 할아버지가 곁에서 봐주시며 손을 흔들어 주시고계셔서 더욱 즐거웠던 아이들.놀이기구만 몇 개 태워줬는데 어느새 점심시간이 돼버렸어요.\n",
      "6번째 문장: 아이들 챙기랴~ 부모님 챙기랴~ㅎㅎㅎ오월드를 잘 즐기는 방법에 대한 팁이 별로 없던 상황에놀이기구 줄을 서면서 옆에 같이 줄을 서던 다른 엄마 덕에 알게 된 사실은??오월드에서는 사파리투어는 꼭 하고 가야 한다는...아~~~그렇군요!\n",
      "7번째 문장: 열심히 마지막으로 줄을 또 한번 서서 부모님과 아이들을 위해 사파리 투어까지 하게 되었어요.\n",
      "8번째 문장: 동물모양 예쁜 사파리투어 버스를 타고 부모님과 아이들을 자리에 앉히고 나니 다들 기대감 폭발~새로운 동물들을 하나하나 만날 때마다 반가운 함성이 여기저기서 터져 나옵니다.\n",
      "9번째 문장: 우리 아이들도 사파리투어는 처음이었지만연로하신 부모님에게는 더 신기한 체험이 되었던 시간이에요.\n",
      "10번째 문장: 마치 아이들을 보는 듯, 백두산 호랑이 우리 앞에서 크게 감탄을 하시기도 하고 원숭이들의 빠른 몸짓에귀엽다며 껄껄 웃으시기도 하시던 부모님.하지만 원래 목적이었던 튤립축제를 보러 가기 위해서는 고난이 아주 많았습니다.\n",
      "11번째 문장: 부모님을 휠체어로 모시고 플라워 랜드까지 가는 길이 대부분 언덕을 올라가듯 경사가 가파른 길밖에는 없어서 말이에요... ㅠ.ㅠ\n",
      "12번째 문장: 동물원 쪽으로 휠체어를 밀고 올라갈 때에도 기나긴 비탈 길을 낑낑거리며 올라가던 내가 안쓰러웠는지 중간에 힘 좋으신 몇 분이 도와주시기도 하셨었지요.\n",
      "13번째 문장: 하지만 도저히 플라워랜드까지는 무리라며 주변 사람들이 다 고개를 절레절레~하지만 원래 목적이 부모님 꽃구경 시켜드릴 목적이었는데 너무 아쉽기만 했어요.등줄기에서는 땀이 줄줄 흐르고 있고자신은 별로 없었지만 고민고민하다가 결국 부딪혀보자!!\n",
      "14번째 문장: 뜻이 있으면 길이 있다~플.라.\n",
      "15번째 문장: 워.랜.드.에.드.디.어.\n",
      "16번째 문장: 도.착.했.습.니.\n",
      "17번째 문장: 다.\n",
      "18번째 문장: 예쁜 꽃밭들을 마주하면서 아이들 표정도 한껏 밝아지기 시작하네요.\n",
      "19번째 문장: 물론 중간중간 땅이 고르지 못해 여러 번 휠체어를 아이들이 지키고 서 있어야만 했고빈번하게 화장실을 가셔야 하는 아버님 사정 때문에시간이 많이 지체가 되기도 했었지요.\n",
      "20번째 문장: 하지만 고생 끝에 낙이 온다는 말이 실감될 정도로 멋지게 조성된 화원들을 하나둘씩 마주하면서 포기하지 않고 오길 정말 잘했다 싶었어요!\n",
      "21번째 문장: 예쁜 꽃 앞에 앉아 더욱 자세하게 꽃들을 감상하고 있는 딸아이.시댁 앞마당에도 꽃들이 한창 피어나고 있는 중이었지만이렇게 수많은 꽃들의 에너지를 받으시고 이날 약간은 젊어지지 않으셨을까...ㅎㅎㅎ\n",
      "22번째 문장: 색색의 튤립들이 정원 가득이던 오월드 튤립축제~어릴 때 부모님과 함께 용인자연농원(지금의 에버랜드) 튤립축제에 가서빨간색 땡땡이 원피스를 입고수없이 사진을 찍었던 추억을 곱씹어 보게 되네요.\n",
      "23번째 문장: 다양한 정원들뿐만이 아니고 곳곳에 분수들이 많아서 보기만 해도 시원했던 플라워 랜드의 전경폭포수같이 물이 떨어지는 계단과 음악에 맞추어 춤을 추는 물줄기들. 터널 분수에서는 소리를 꽥꽥~지르며 물줄기 사이를 아슬아슬하게 통과하는 아이들의 재롱까지 더해지고 있는 중이었어요.\n",
      "24번째 문장: 여기에 안 왔으면 대체 어쩔뻔 했누~~~아이들 놀이터도 있어서 잠시 놀 수가 있었고 운치 있는 전통 정원이랑 넓은 호수까지 있어서 오월드 내에서는 가장 와볼만한 곳이 아니었나 싶습니다.\n",
      "25번째 문장: 하. 지.\n",
      "26번째 문장: 만... 휠체어 서비스는 다른 대전관광명소 지역에 비해 가장 관리가 소홀했던 곳이어서 매우 실망이었어요.\n",
      "27번째 문장: 휠체어서비스가 가능하다는 걸 사전에 다 확인을 하고 간 상황이었는데입장료 내고 대여소에 찾아가 보니 전혀 한 대도 대여가능한 휠체어가 없다고 해서 급당황~ 결국 보수가 필요해서 방치되어 있던 휠체어를 어쩔 수 없이 끌고 다니게 되면서 한국이 장애인과 노약자에 대한 배려가 얼마나 낙후되어 있는 나라인가 하는 사실을 다시금 뼈저리게 느꼈던 순간이었습니다.\n",
      "28번째 문장: 놀이동산에 수요가 많은 유모차는 수십 대가 준비되어 있으면서휠체어는 단 한 대도 준비가 되어 있지 않다니!단지 오월드에 해당되는 이야기만은 결코 아니었기에 더욱 마음이 씁쓸하기만 하네요~\n"
     ]
    }
   ],
   "source": [
    "# 문장별로 확인 \n",
    "test_list = test_df['text'][0]\n",
    "print(len(test_list)) # 문장 개수\n",
    "\n",
    "for i in range(len(test_list)): # 내용 확인\n",
    "    print(f'{i}번째 문장: {test_list[i]}')"
   ]
  },
  {
   "cell_type": "markdown",
   "id": "87038815",
   "metadata": {},
   "source": [
    "kss는 마침표가 없으면 한 문으로 인식하는 문제점이 있습니다. 그래서 normalize를 시도해서 한번 문장 정제를 거치고 split해봤습니다. 해도 안될시에는 [hanspell 라이브러리](https://ebbnflow.tistory.com/246)를 사용해볼 예정입니다."
   ]
  },
  {
   "cell_type": "markdown",
   "id": "3592f4ac",
   "metadata": {},
   "source": [
    "## 문단 정규표현식"
   ]
  },
  {
   "cell_type": "markdown",
   "id": "31492f2c",
   "metadata": {},
   "source": [
    "* [정규표현식 설명 블로그](https://blog.naver.com/PostView.nhn?blogId=wideeyed&logNo=221347960543)"
   ]
  },
  {
   "cell_type": "code",
   "execution_count": 32,
   "id": "e81761c6",
   "metadata": {},
   "outputs": [],
   "source": [
    "import re"
   ]
  },
  {
   "cell_type": "code",
   "execution_count": 33,
   "id": "39c157fa",
   "metadata": {
    "scrolled": false
   },
   "outputs": [],
   "source": [
    "def senPreprocessing(sen):\n",
    "    sen = re.sub(pattern='[-=+,#/\\:^$@*\\\"※~&%ㆍ』\\\\‘|\\(\\)\\[\\]\\<\\>`\\'…》]', repl=' ', string=sen)\n",
    "    sen = re.sub(pattern='[\\n\\xa0]', repl=' ', string=sen) \n",
    "    sen = re.sub(pattern='[ㄱ-ㅎㅏ-ㅣ]+', repl=' ', string=sen) \n",
    "    sen = re.sub(pattern='[?!~.]?', repl='', string=sen) \n",
    "    sen = re.sub(pattern='[ ]', repl='', string=sen) \n",
    "#     sen = re.sub(pattern='^[?]+', repl='', string=sen) \n",
    "#     sen = re.sub(pattern='^[!]+', repl='', string=sen) \n",
    "#     sen = re.sub(pattern='^[~]+', repl='', string=sen) \n",
    "    return sen"
   ]
  },
  {
   "cell_type": "markdown",
   "id": "2d549330",
   "metadata": {},
   "source": [
    "이후에 맞춤법 교정에서 띄어쓰기를 교정할때 문장이 애매하게 띄어쓰기 되어있는 것보다, 아예 이어붙어진 경우가 교정이 더 잘 됩니다."
   ]
  },
  {
   "cell_type": "code",
   "execution_count": 34,
   "id": "62d05c7f",
   "metadata": {},
   "outputs": [],
   "source": [
    "test_list = list(map(senPreprocessing, test_list))"
   ]
  },
  {
   "cell_type": "code",
   "execution_count": 35,
   "id": "51bd5568",
   "metadata": {},
   "outputs": [
    {
     "data": {
      "text/plain": [
       "['대전관광명소오월드튤립축제사파리투어대전관광명소중아이들이가장좋아할만한장소는아마오월드가아닐까싶습니다',\n",
       " '특히봄에는다양한플라워축제로어른들까지만족시켜줄수있는장소였어요',\n",
       " '4월에있었던오월드튤립축제에는주말이라그런지사람들이차암많더라고요',\n",
       " '꽃구경하러겸사겸사가긴했었지만알록달록놀이기구들을보자마자흥분하던아이들그러나아이들이뭔가를타고싶어해도줄을많이서야하니아주골치가',\n",
       " '그래도아침일찍도착을한덕분에서너가지정도는적당히줄을서고아이들에게놀이기구를태워줄수가있었습니다',\n",
       " '할머니할아버지가곁에서봐주시며손을흔들어주시고계셔서더욱즐거웠던아이들놀이기구만몇개태워줬는데어느새점심시간이돼버렸어요',\n",
       " '아이들챙기랴부모님챙기랴오월드를잘즐기는방법에대한팁이별로없던상황에놀이기구줄을서면서옆에같이줄을서던다른엄마덕에알게된사실은오월드에서는사파리투어는꼭하고가야한다는아그렇군요',\n",
       " '열심히마지막으로줄을또한번서서부모님과아이들을위해사파리투어까지하게되었어요',\n",
       " '동물모양예쁜사파리투어버스를타고부모님과아이들을자리에앉히고나니다들기대감폭발새로운동물들을하나하나만날때마다반가운함성이여기저기서터져나옵니다',\n",
       " '우리아이들도사파리투어는처음이었지만연로하신부모님에게는더신기한체험이되었던시간이에요',\n",
       " '마치아이들을보는듯백두산호랑이우리앞에서크게감탄을하시기도하고원숭이들의빠른몸짓에귀엽다며껄껄웃으시기도하시던부모님하지만원래목적이었던튤립축제를보러가기위해서는고난이아주많았습니다',\n",
       " '부모님을휠체어로모시고플라워랜드까지가는길이대부분언덕을올라가듯경사가가파른길밖에는없어서말이에요',\n",
       " '동물원쪽으로휠체어를밀고올라갈때에도기나긴비탈길을낑낑거리며올라가던내가안쓰러웠는지중간에힘좋으신몇분이도와주시기도하셨었지요',\n",
       " '하지만도저히플라워랜드까지는무리라며주변사람들이다고개를절레절레하지만원래목적이부모님꽃구경시켜드릴목적이었는데너무아쉽기만했어요등줄기에서는땀이줄줄흐르고있고자신은별로없었지만고민고민하다가결국부딪혀보자',\n",
       " '뜻이있으면길이있다플라',\n",
       " '워랜드에드디어',\n",
       " '도착했습니',\n",
       " '다',\n",
       " '예쁜꽃밭들을마주하면서아이들표정도한껏밝아지기시작하네요',\n",
       " '물론중간중간땅이고르지못해여러번휠체어를아이들이지키고서있어야만했고빈번하게화장실을가셔야하는아버님사정때문에시간이많이지체가되기도했었지요',\n",
       " '하지만고생끝에낙이온다는말이실감될정도로멋지게조성된화원들을하나둘씩마주하면서포기하지않고오길정말잘했다싶었어요',\n",
       " '예쁜꽃앞에앉아더욱자세하게꽃들을감상하고있는딸아이시댁앞마당에도꽃들이한창피어나고있는중이었지만이렇게수많은꽃들의에너지를받으시고이날약간은젊어지지않으셨을까',\n",
       " '색색의튤립들이정원가득이던오월드튤립축제어릴때부모님과함께용인자연농원지금의에버랜드튤립축제에가서빨간색땡땡이원피스를입고수없이사진을찍었던추억을곱씹어보게되네요',\n",
       " '다양한정원들뿐만이아니고곳곳에분수들이많아서보기만해도시원했던플라워랜드의전경폭포수같이물이떨어지는계단과음악에맞추어춤을추는물줄기들터널분수에서는소리를꽥꽥지르며물줄기사이를아슬아슬하게통과하는아이들의재롱까지더해지고있는중이었어요',\n",
       " '여기에안왔으면대체어쩔뻔했누아이들놀이터도있어서잠시놀수가있었고운치있는전통정원이랑넓은호수까지있어서오월드내에서는가장와볼만한곳이아니었나싶습니다',\n",
       " '하지',\n",
       " '만휠체어서비스는다른대전관광명소지역에비해가장관리가소홀했던곳이어서매우실망이었어요',\n",
       " '휠체어서비스가가능하다는걸사전에다확인을하고간상황이었는데입장료내고대여소에찾아가보니전혀한대도대여가능한휠체어가없다고해서급당황결국보수가필요해서방치되어있던휠체어를어쩔수없이끌고다니게되면서한국이장애인과노약자에대한배려가얼마나낙후되어있는나라인가하는사실을다시금뼈저리게느꼈던순간이었습니다',\n",
       " '놀이동산에수요가많은유모차는수십대가준비되어있으면서휠체어는단한대도준비가되어있지않다니단지오월드에해당되는이야기만은결코아니었기에더욱마음이씁쓸하기만하네요']"
      ]
     },
     "execution_count": 35,
     "metadata": {},
     "output_type": "execute_result"
    }
   ],
   "source": [
    "test_list"
   ]
  },
  {
   "cell_type": "code",
   "execution_count": 36,
   "id": "5536e195",
   "metadata": {},
   "outputs": [
    {
     "name": "stdout",
     "output_type": "stream",
     "text": [
      "그랬습니다.\n"
     ]
    }
   ],
   "source": [
    "# 맺음말?에 해당하는 경우 .를 붙여줍니다.\n",
    "sent ='그랬습니다' \n",
    "if sent[-1] in ['다', '요', '죠', '오', '자']:\n",
    "    print(sent + '.')"
   ]
  },
  {
   "cell_type": "code",
   "execution_count": 39,
   "id": "340ec1a9",
   "metadata": {},
   "outputs": [],
   "source": [
    "def dotAdd(sen):\n",
    "    if sen[-1] in ['다', '요', '죠', '오', '자']:\n",
    "        sen = sen + '.'\n",
    "    return sen"
   ]
  },
  {
   "cell_type": "code",
   "execution_count": 40,
   "id": "bd039f42",
   "metadata": {
    "scrolled": false
   },
   "outputs": [
    {
     "data": {
      "text/plain": [
       "['대전관광명소오월드튤립축제사파리투어대전관광명소중아이들이가장좋아할만한장소는아마오월드가아닐까싶습니다.',\n",
       " '특히봄에는다양한플라워축제로어른들까지만족시켜줄수있는장소였어요.',\n",
       " '4월에있었던오월드튤립축제에는주말이라그런지사람들이차암많더라고요.',\n",
       " '꽃구경하러겸사겸사가긴했었지만알록달록놀이기구들을보자마자흥분하던아이들그러나아이들이뭔가를타고싶어해도줄을많이서야하니아주골치가',\n",
       " '그래도아침일찍도착을한덕분에서너가지정도는적당히줄을서고아이들에게놀이기구를태워줄수가있었습니다.',\n",
       " '할머니할아버지가곁에서봐주시며손을흔들어주시고계셔서더욱즐거웠던아이들놀이기구만몇개태워줬는데어느새점심시간이돼버렸어요.',\n",
       " '아이들챙기랴부모님챙기랴오월드를잘즐기는방법에대한팁이별로없던상황에놀이기구줄을서면서옆에같이줄을서던다른엄마덕에알게된사실은오월드에서는사파리투어는꼭하고가야한다는아그렇군요.',\n",
       " '열심히마지막으로줄을또한번서서부모님과아이들을위해사파리투어까지하게되었어요.',\n",
       " '동물모양예쁜사파리투어버스를타고부모님과아이들을자리에앉히고나니다들기대감폭발새로운동물들을하나하나만날때마다반가운함성이여기저기서터져나옵니다.',\n",
       " '우리아이들도사파리투어는처음이었지만연로하신부모님에게는더신기한체험이되었던시간이에요.',\n",
       " '마치아이들을보는듯백두산호랑이우리앞에서크게감탄을하시기도하고원숭이들의빠른몸짓에귀엽다며껄껄웃으시기도하시던부모님하지만원래목적이었던튤립축제를보러가기위해서는고난이아주많았습니다.',\n",
       " '부모님을휠체어로모시고플라워랜드까지가는길이대부분언덕을올라가듯경사가가파른길밖에는없어서말이에요.',\n",
       " '동물원쪽으로휠체어를밀고올라갈때에도기나긴비탈길을낑낑거리며올라가던내가안쓰러웠는지중간에힘좋으신몇분이도와주시기도하셨었지요.',\n",
       " '하지만도저히플라워랜드까지는무리라며주변사람들이다고개를절레절레하지만원래목적이부모님꽃구경시켜드릴목적이었는데너무아쉽기만했어요등줄기에서는땀이줄줄흐르고있고자신은별로없었지만고민고민하다가결국부딪혀보자.',\n",
       " '뜻이있으면길이있다플라',\n",
       " '워랜드에드디어',\n",
       " '도착했습니',\n",
       " '다.',\n",
       " '예쁜꽃밭들을마주하면서아이들표정도한껏밝아지기시작하네요.',\n",
       " '물론중간중간땅이고르지못해여러번휠체어를아이들이지키고서있어야만했고빈번하게화장실을가셔야하는아버님사정때문에시간이많이지체가되기도했었지요.',\n",
       " '하지만고생끝에낙이온다는말이실감될정도로멋지게조성된화원들을하나둘씩마주하면서포기하지않고오길정말잘했다싶었어요.',\n",
       " '예쁜꽃앞에앉아더욱자세하게꽃들을감상하고있는딸아이시댁앞마당에도꽃들이한창피어나고있는중이었지만이렇게수많은꽃들의에너지를받으시고이날약간은젊어지지않으셨을까',\n",
       " '색색의튤립들이정원가득이던오월드튤립축제어릴때부모님과함께용인자연농원지금의에버랜드튤립축제에가서빨간색땡땡이원피스를입고수없이사진을찍었던추억을곱씹어보게되네요.',\n",
       " '다양한정원들뿐만이아니고곳곳에분수들이많아서보기만해도시원했던플라워랜드의전경폭포수같이물이떨어지는계단과음악에맞추어춤을추는물줄기들터널분수에서는소리를꽥꽥지르며물줄기사이를아슬아슬하게통과하는아이들의재롱까지더해지고있는중이었어요.',\n",
       " '여기에안왔으면대체어쩔뻔했누아이들놀이터도있어서잠시놀수가있었고운치있는전통정원이랑넓은호수까지있어서오월드내에서는가장와볼만한곳이아니었나싶습니다.',\n",
       " '하지',\n",
       " '만휠체어서비스는다른대전관광명소지역에비해가장관리가소홀했던곳이어서매우실망이었어요.',\n",
       " '휠체어서비스가가능하다는걸사전에다확인을하고간상황이었는데입장료내고대여소에찾아가보니전혀한대도대여가능한휠체어가없다고해서급당황결국보수가필요해서방치되어있던휠체어를어쩔수없이끌고다니게되면서한국이장애인과노약자에대한배려가얼마나낙후되어있는나라인가하는사실을다시금뼈저리게느꼈던순간이었습니다.',\n",
       " '놀이동산에수요가많은유모차는수십대가준비되어있으면서휠체어는단한대도준비가되어있지않다니단지오월드에해당되는이야기만은결코아니었기에더욱마음이씁쓸하기만하네요.']"
      ]
     },
     "execution_count": 40,
     "metadata": {},
     "output_type": "execute_result"
    }
   ],
   "source": [
    "test_list = list(map(dotAdd, test_list))\n",
    "test_list"
   ]
  },
  {
   "cell_type": "code",
   "execution_count": 41,
   "id": "33ea6161",
   "metadata": {
    "scrolled": false
   },
   "outputs": [
    {
     "data": {
      "text/plain": [
       "'대전관광명소오월드튤립축제사파리투어대전관광명소중아이들이가장좋아할만한장소는아마오월드가아닐까싶습니다. 특히봄에는다양한플라워축제로어른들까지만족시켜줄수있는장소였어요. 4월에있었던오월드튤립축제에는주말이라그런지사람들이차암많더라고요. 꽃구경하러겸사겸사가긴했었지만알록달록놀이기구들을보자마자흥분하던아이들그러나아이들이뭔가를타고싶어해도줄을많이서야하니아주골치가 그래도아침일찍도착을한덕분에서너가지정도는적당히줄을서고아이들에게놀이기구를태워줄수가있었습니다. 할머니할아버지가곁에서봐주시며손을흔들어주시고계셔서더욱즐거웠던아이들놀이기구만몇개태워줬는데어느새점심시간이돼버렸어요. 아이들챙기랴부모님챙기랴오월드를잘즐기는방법에대한팁이별로없던상황에놀이기구줄을서면서옆에같이줄을서던다른엄마덕에알게된사실은오월드에서는사파리투어는꼭하고가야한다는아그렇군요. 열심히마지막으로줄을또한번서서부모님과아이들을위해사파리투어까지하게되었어요. 동물모양예쁜사파리투어버스를타고부모님과아이들을자리에앉히고나니다들기대감폭발새로운동물들을하나하나만날때마다반가운함성이여기저기서터져나옵니다. 우리아이들도사파리투어는처음이었지만연로하신부모님에게는더신기한체험이되었던시간이에요. 마치아이들을보는듯백두산호랑이우리앞에서크게감탄을하시기도하고원숭이들의빠른몸짓에귀엽다며껄껄웃으시기도하시던부모님하지만원래목적이었던튤립축제를보러가기위해서는고난이아주많았습니다. 부모님을휠체어로모시고플라워랜드까지가는길이대부분언덕을올라가듯경사가가파른길밖에는없어서말이에요. 동물원쪽으로휠체어를밀고올라갈때에도기나긴비탈길을낑낑거리며올라가던내가안쓰러웠는지중간에힘좋으신몇분이도와주시기도하셨었지요. 하지만도저히플라워랜드까지는무리라며주변사람들이다고개를절레절레하지만원래목적이부모님꽃구경시켜드릴목적이었는데너무아쉽기만했어요등줄기에서는땀이줄줄흐르고있고자신은별로없었지만고민고민하다가결국부딪혀보자. 뜻이있으면길이있다플라 워랜드에드디어 도착했습니 다. 예쁜꽃밭들을마주하면서아이들표정도한껏밝아지기시작하네요. 물론중간중간땅이고르지못해여러번휠체어를아이들이지키고서있어야만했고빈번하게화장실을가셔야하는아버님사정때문에시간이많이지체가되기도했었지요. 하지만고생끝에낙이온다는말이실감될정도로멋지게조성된화원들을하나둘씩마주하면서포기하지않고오길정말잘했다싶었어요. 예쁜꽃앞에앉아더욱자세하게꽃들을감상하고있는딸아이시댁앞마당에도꽃들이한창피어나고있는중이었지만이렇게수많은꽃들의에너지를받으시고이날약간은젊어지지않으셨을까 색색의튤립들이정원가득이던오월드튤립축제어릴때부모님과함께용인자연농원지금의에버랜드튤립축제에가서빨간색땡땡이원피스를입고수없이사진을찍었던추억을곱씹어보게되네요. 다양한정원들뿐만이아니고곳곳에분수들이많아서보기만해도시원했던플라워랜드의전경폭포수같이물이떨어지는계단과음악에맞추어춤을추는물줄기들터널분수에서는소리를꽥꽥지르며물줄기사이를아슬아슬하게통과하는아이들의재롱까지더해지고있는중이었어요. 여기에안왔으면대체어쩔뻔했누아이들놀이터도있어서잠시놀수가있었고운치있는전통정원이랑넓은호수까지있어서오월드내에서는가장와볼만한곳이아니었나싶습니다. 하지 만휠체어서비스는다른대전관광명소지역에비해가장관리가소홀했던곳이어서매우실망이었어요. 휠체어서비스가가능하다는걸사전에다확인을하고간상황이었는데입장료내고대여소에찾아가보니전혀한대도대여가능한휠체어가없다고해서급당황결국보수가필요해서방치되어있던휠체어를어쩔수없이끌고다니게되면서한국이장애인과노약자에대한배려가얼마나낙후되어있는나라인가하는사실을다시금뼈저리게느꼈던순간이었습니다. 놀이동산에수요가많은유모차는수십대가준비되어있으면서휠체어는단한대도준비가되어있지않다니단지오월드에해당되는이야기만은결코아니었기에더욱마음이씁쓸하기만하네요.'"
      ]
     },
     "execution_count": 41,
     "metadata": {},
     "output_type": "execute_result"
    }
   ],
   "source": [
    "# 문장들을 다시 한 문단으로 만들어줍니다.\n",
    "test_list = ' '.join(test_list)\n",
    "test_list"
   ]
  },
  {
   "cell_type": "markdown",
   "id": "32b7eefe",
   "metadata": {},
   "source": [
    "다시 문장 분리 수행"
   ]
  },
  {
   "cell_type": "code",
   "execution_count": 42,
   "id": "c3adfad6",
   "metadata": {},
   "outputs": [
    {
     "data": {
      "text/plain": [
       "['대전관광명소오월드튤립축제사파리투어대전관광명소중아이들이가장좋아할만한장소는아마오월드가아닐까싶습니다.',\n",
       " '특히봄에는다양한플라워축제로어른들까지만족시켜줄수있는장소였어요.',\n",
       " '4월에있었던오월드튤립축제에는주말이라그런지사람들이차암많더라고요.',\n",
       " '꽃구경하러겸사겸사가긴했었지만알록달록놀이기구들을보자마자흥분하던아이들그러나아이들이뭔가를타고싶어해도줄을많이서야하니아주골치가 그래도아침일찍도착을한덕분에서너가지정도는적당히줄을서고아이들에게놀이기구를태워줄수가있었습니다.',\n",
       " '할머니할아버지가곁에서봐주시며손을흔들어주시고계셔서더욱즐거웠던아이들놀이기구만몇개태워줬는데어느새점심시간이돼버렸어요.',\n",
       " '아이들챙기랴부모님챙기랴오월드를잘즐기는방법에대한팁이별로없던상황에놀이기구줄을서면서옆에같이줄을서던다른엄마덕에알게된사실은오월드에서는사파리투어는꼭하고가야한다는아그렇군요.',\n",
       " '열심히마지막으로줄을또한번서서부모님과아이들을위해사파리투어까지하게되었어요.',\n",
       " '동물모양예쁜사파리투어버스를타고부모님과아이들을자리에앉히고나니다들기대감폭발새로운동물들을하나하나만날때마다반가운함성이여기저기서터져나옵니다.',\n",
       " '우리아이들도사파리투어는처음이었지만연로하신부모님에게는더신기한체험이되었던시간이에요.',\n",
       " '마치아이들을보는듯백두산호랑이우리앞에서크게감탄을하시기도하고원숭이들의빠른몸짓에귀엽다며껄껄웃으시기도하시던부모님하지만원래목적이었던튤립축제를보러가기위해서는고난이아주많았습니다.',\n",
       " '부모님을휠체어로모시고플라워랜드까지가는길이대부분언덕을올라가듯경사가가파른길밖에는없어서말이에요.',\n",
       " '동물원쪽으로휠체어를밀고올라갈때에도기나긴비탈길을낑낑거리며올라가던내가안쓰러웠는지중간에힘좋으신몇분이도와주시기도하셨었지요.',\n",
       " '하지만도저히플라워랜드까지는무리라며주변사람들이다고개를절레절레하지만원래목적이부모님꽃구경시켜드릴목적이었는데너무아쉽기만했어요등줄기에서는땀이줄줄흐르고있고자신은별로없었지만고민고민하다가결국부딪혀보자.',\n",
       " '뜻이있으면길이있다플라 워랜드에드디어 도착했습니 다.',\n",
       " '예쁜꽃밭들을마주하면서아이들표정도한껏밝아지기시작하네요.',\n",
       " '물론중간중간땅이고르지못해여러번휠체어를아이들이지키고서있어야만했고빈번하게화장실을가셔야하는아버님사정때문에시간이많이지체가되기도했었지요.',\n",
       " '하지만고생끝에낙이온다는말이실감될정도로멋지게조성된화원들을하나둘씩마주하면서포기하지않고오길정말잘했다싶었어요.',\n",
       " '예쁜꽃앞에앉아더욱자세하게꽃들을감상하고있는딸아이시댁앞마당에도꽃들이한창피어나고있는중이었지만이렇게수많은꽃들의에너지를받으시고이날약간은젊어지지않으셨을까 색색의튤립들이정원가득이던오월드튤립축제어릴때부모님과함께용인자연농원지금의에버랜드튤립축제에가서빨간색땡땡이원피스를입고수없이사진을찍었던추억을곱씹어보게되네요.',\n",
       " '다양한정원들뿐만이아니고곳곳에분수들이많아서보기만해도시원했던플라워랜드의전경폭포수같이물이떨어지는계단과음악에맞추어춤을추는물줄기들터널분수에서는소리를꽥꽥지르며물줄기사이를아슬아슬하게통과하는아이들의재롱까지더해지고있는중이었어요.',\n",
       " '여기에안왔으면대체어쩔뻔했누아이들놀이터도있어서잠시놀수가있었고운치있는전통정원이랑넓은호수까지있어서오월드내에서는가장와볼만한곳이아니었나싶습니다.',\n",
       " '하지 만휠체어서비스는다른대전관광명소지역에비해가장관리가소홀했던곳이어서매우실망이었어요.',\n",
       " '휠체어서비스가가능하다는걸사전에다확인을하고간상황이었는데입장료내고대여소에찾아가보니전혀한대도대여가능한휠체어가없다고해서급당황결국보수가필요해서방치되어있던휠체어를어쩔수없이끌고다니게되면서한국이장애인과노약자에대한배려가얼마나낙후되어있는나라인가하는사실을다시금뼈저리게느꼈던순간이었습니다.',\n",
       " '놀이동산에수요가많은유모차는수십대가준비되어있으면서휠체어는단한대도준비가되어있지않다니단지오월드에해당되는이야기만은결코아니었기에더욱마음이씁쓸하기만하네요.']"
      ]
     },
     "execution_count": 42,
     "metadata": {},
     "output_type": "execute_result"
    }
   ],
   "source": [
    "# test_list = list(map(kss.split_sentences, test_list)) # list로 구성된 문장으로 split\n",
    "test_list = kss.split_sentences(test_list)\n",
    "test_list"
   ]
  },
  {
   "cell_type": "markdown",
   "id": "1de4e020",
   "metadata": {},
   "source": [
    "문장분리 > 정규표현식 > 맞춤법 검사 > 다시 문단 > 문장분리를 수행했을때 이상하게 문장 중간에 짤리는 경우가 개선된 것을 확인할 수 있습니다. 마지막으로 문장 분리 후 다시 맞춤법 검사를 거치면 정제된 문장이 추출되는 것을 확인할 수 있습니다."
   ]
  },
  {
   "cell_type": "code",
   "execution_count": 43,
   "id": "9c0f840d",
   "metadata": {},
   "outputs": [],
   "source": [
    "# pattern = '(http|tfp|https)://(?:[\\w.]|(?:%[\\da-fA-F\\{2}+' # html 링크 \n",
    "# ^[가-힣a-zA-Z0-9]+$ # 영문, 한글, 숫자만 가능 "
   ]
  },
  {
   "cell_type": "markdown",
   "id": "67a2b6e4",
   "metadata": {},
   "source": [
    "## 맞춤법 검사 후 문장 분리\n",
    "* [py-hanspell](https://github.com/ssut/py-hanspell): 네이버 맞춤법 검사기를 기반으로 합니다, pip 설치시 error가 있어서 git clone을 활용해야합니다. \n",
    "* [부산대 맞춤법 검사기 using selenium](https://hong-yp-ml-records.tistory.com/99): 부산대 맞춤법 검사기는 python 2.x 버전에 해당해서, 해당 블로그에서 Selenium을 활용해 맞춤법 검사를 진행한다. 해당 블로그 실험에서는 py-hanspell의 성능이 나았으므로 맞춤법 검사는 py-hanspell로만 진행하겠습니다. \n",
    "* [py-hangul-checker](https://pypi.org/project/py-hangul-checker/)"
   ]
  },
  {
   "cell_type": "markdown",
   "id": "9812265e",
   "metadata": {},
   "source": [
    "### py-hangul-check를 활용한 맞춤법 검사"
   ]
  },
  {
   "cell_type": "code",
   "execution_count": 44,
   "id": "6a515e71",
   "metadata": {},
   "outputs": [],
   "source": [
    "from hangul_checker import KoreanSpellChecker"
   ]
  },
  {
   "cell_type": "code",
   "execution_count": 45,
   "id": "2da01920",
   "metadata": {},
   "outputs": [],
   "source": [
    "ksc = KoreanSpellChecker()\n",
    "# test_df['text'] = test_df['text'].map(ksc.check_spelling)"
   ]
  },
  {
   "cell_type": "code",
   "execution_count": 46,
   "id": "9674c7ec",
   "metadata": {
    "scrolled": false
   },
   "outputs": [
    {
     "name": "stdout",
     "output_type": "stream",
     "text": [
      "23\n",
      "맞춤법 교정전 0번째 문장: 대전관광명소오월드튤립축제사파리투어대전관광명소중아이들이가장좋아할만한장소는아마오월드가아닐까싶습니다.\n",
      "맞춤법 교정후 0번째 문장: 대전관광명소 오월드 튤립축제 사파리 투어 대전관광명소 중 아이들이 가장 좋아할 만한 장소는 아마 오월드가 아닐까 싶습니다.\n",
      "----------------------------------------\n",
      "맞춤법 교정전 1번째 문장: 특히봄에는다양한플라워축제로어른들까지만족시켜줄수있는장소였어요.\n",
      "맞춤법 교정후 1번째 문장: 특히 봄에는 다양한 플라워 축제로 어른들까지 만족시켜 줄 수 있는 장소였어요.\n",
      "----------------------------------------\n",
      "맞춤법 교정전 2번째 문장: 4월에있었던오월드튤립축제에는주말이라그런지사람들이차암많더라고요.\n",
      "맞춤법 교정후 2번째 문장: 4월에 있었던 오월드 튤립축제에는 주말이라 그런지 사람들이 차암 많더라고요.\n",
      "----------------------------------------\n",
      "맞춤법 교정전 3번째 문장: 꽃구경하러겸사겸사가긴했었지만알록달록놀이기구들을보자마자흥분하던아이들그러나아이들이뭔가를타고싶어해도줄을많이서야하니아주골치가 그래도아침일찍도착을한덕분에서너가지정도는적당히줄을서고아이들에게놀이기구를태워줄수가있었습니다.\n",
      "맞춤법 교정후 3번째 문장: 꽃구경하러 겸사겸사 가긴 했었지만 알록달록 놀이 기고들을 보자마자 흥분하던 아이들 그러나 아이들이 뭔가를 타고 싶어 해도 줄을 많이 서야 하니 아주 골치가 그래도 아침 일찍 도착을 한 덕분에 서너 가지 정도는 적당히 줄을 서고 아이들에게 놀이기구를 태워줄 수가 있었습니다.\n",
      "----------------------------------------\n",
      "맞춤법 교정전 4번째 문장: 할머니할아버지가곁에서봐주시며손을흔들어주시고계셔서더욱즐거웠던아이들놀이기구만몇개태워줬는데어느새점심시간이돼버렸어요.\n",
      "맞춤법 교정후 4번째 문장: 할머니 할아버지가 곁에서 봐주시며 손을 흔들어주시고 계셔서 더욱 즐거웠던 아이들 놀이기구만 몇 개 태워줬는데 어느새 점심시간이 돼버렸어요.\n",
      "----------------------------------------\n",
      "맞춤법 교정전 5번째 문장: 아이들챙기랴부모님챙기랴오월드를잘즐기는방법에대한팁이별로없던상황에놀이기구줄을서면서옆에같이줄을서던다른엄마덕에알게된사실은오월드에서는사파리투어는꼭하고가야한다는아그렇군요.\n",
      "맞춤법 교정후 5번째 문장: 아이들 챙기랴 부모님 챙기랴 오월드를 잘 즐기는 방법에 대한 팁이 별로 없던 상황에 놀이기구 줄을 서면서 옆에 같이 줄을 서던 다른 엄마 덕에 알게 된 사실은 오월드에서는 사파리 투어는 꼭 하고 가야 한다는 아 그렇군요.\n",
      "----------------------------------------\n",
      "맞춤법 교정전 6번째 문장: 열심히마지막으로줄을또한번서서부모님과아이들을위해사파리투어까지하게되었어요.\n",
      "맞춤법 교정후 6번째 문장: 열심히 마지막으로 줄을 또 한 번 서서 부모님과 아이들을 위해 사파리 투어까지 하게 되었어요.\n",
      "----------------------------------------\n",
      "맞춤법 교정전 7번째 문장: 동물모양예쁜사파리투어버스를타고부모님과아이들을자리에앉히고나니다들기대감폭발새로운동물들을하나하나만날때마다반가운함성이여기저기서터져나옵니다.\n",
      "맞춤법 교정후 7번째 문장: 동물 모양 예쁜 사파리 투어버스를 타고 부모님과 아이들을 자리에 앉히고 나니다들 기대감 폭발 새로운 동물들을 하나하나 만날 때마다 반가운 함성이 여기저기서 터져 나옵니다.\n",
      "----------------------------------------\n",
      "맞춤법 교정전 8번째 문장: 우리아이들도사파리투어는처음이었지만연로하신부모님에게는더신기한체험이되었던시간이에요.\n",
      "맞춤법 교정후 8번째 문장: 우리 아이들도 사파리 투어는 처음이었지만 연로하신 부모님에게는 더 신기한 체험이 되었던 시간이에요.\n",
      "----------------------------------------\n",
      "맞춤법 교정전 9번째 문장: 마치아이들을보는듯백두산호랑이우리앞에서크게감탄을하시기도하고원숭이들의빠른몸짓에귀엽다며껄껄웃으시기도하시던부모님하지만원래목적이었던튤립축제를보러가기위해서는고난이아주많았습니다.\n",
      "맞춤법 교정후 9번째 문장: 마치 아이들을 보는 듯 백두산 호랑이 우리 앞에서 크게 감탄을 하시기도 하고 원숭이들의 빠른 몸짓에 귀엽다며 껄껄 웃으시기도 하시던 부모님 하지만 원래 목적이었던 튤립축제를 보러 가기 위해서는 고난이 아주 많았습니다.\n",
      "----------------------------------------\n",
      "맞춤법 교정전 10번째 문장: 부모님을휠체어로모시고플라워랜드까지가는길이대부분언덕을올라가듯경사가가파른길밖에는없어서말이에요.\n",
      "맞춤법 교정후 10번째 문장: 부모님을 휠체어로 모시고 플라워랜드까지 가는 길이 대부분 언덕을 올라가듯 경사가 가파른 길밖에는 없어서 말이에요.\n",
      "----------------------------------------\n",
      "맞춤법 교정전 11번째 문장: 동물원쪽으로휠체어를밀고올라갈때에도기나긴비탈길을낑낑거리며올라가던내가안쓰러웠는지중간에힘좋으신몇분이도와주시기도하셨었지요.\n",
      "맞춤법 교정후 11번째 문장: 동물원 쪽으로 휠체어를 밀고 올라갈 때에도 기나긴 비탈길을 낑낑거리며 올라가던 내가 안쓰러웠는지 중간에 힘 좋으신 몇 분이 도와주시기도 하셨었지요.\n",
      "----------------------------------------\n",
      "맞춤법 교정전 12번째 문장: 하지만도저히플라워랜드까지는무리라며주변사람들이다고개를절레절레하지만원래목적이부모님꽃구경시켜드릴목적이었는데너무아쉽기만했어요등줄기에서는땀이줄줄흐르고있고자신은별로없었지만고민고민하다가결국부딪혀보자.\n",
      "맞춤법 교정후 12번째 문장: 하지만 도저히 플라워랜드까지는 무리라며 주변 사람들이다 고개를 절레절레하지만 원래 목적이 부모님 꽃구경시켜드릴 목적이었는데 너무 아쉽기만 했어요 등줄기에서는 땀이 줄줄 흐르고 있고 자신은 별로 없었지만 고민고민하다가 결국 부딪혀보자.\n",
      "----------------------------------------\n",
      "맞춤법 교정전 13번째 문장: 뜻이있으면길이있다플라 워랜드에드디어 도착했습니 다.\n",
      "맞춤법 교정후 13번째 문장: 뜻이 있으면 길이 있다 플라 워 랜드에 드디어 도착했습니다.\n",
      "----------------------------------------\n",
      "맞춤법 교정전 14번째 문장: 예쁜꽃밭들을마주하면서아이들표정도한껏밝아지기시작하네요.\n",
      "맞춤법 교정후 14번째 문장: 예쁜 꽃밭들을 마주하면서 아이들 표정도 한껏 밝아지기 시작하네요.\n",
      "----------------------------------------\n",
      "맞춤법 교정전 15번째 문장: 물론중간중간땅이고르지못해여러번휠체어를아이들이지키고서있어야만했고빈번하게화장실을가셔야하는아버님사정때문에시간이많이지체가되기도했었지요.\n",
      "맞춤법 교정후 15번째 문장: 물론 중간중간 땅이 고르지 못해 여러 번 휠체어를 아이들이 지키고 서있어야만 했고 빈번하게 화장실을 가셔야 하는 아버님 사정 때문에 시간이 많이 지체가 되기도 했었지요.\n",
      "----------------------------------------\n",
      "맞춤법 교정전 16번째 문장: 하지만고생끝에낙이온다는말이실감될정도로멋지게조성된화원들을하나둘씩마주하면서포기하지않고오길정말잘했다싶었어요.\n",
      "맞춤법 교정후 16번째 문장: 하지만 고생 끝에 낙이 온다는 말이 실감될 정도로 멋지게 조성된 화원들을 하나둘씩 마주하면서 포기하지 않고 오길 정말 잘했다 싶었어요.\n",
      "----------------------------------------\n",
      "맞춤법 교정전 17번째 문장: 예쁜꽃앞에앉아더욱자세하게꽃들을감상하고있는딸아이시댁앞마당에도꽃들이한창피어나고있는중이었지만이렇게수많은꽃들의에너지를받으시고이날약간은젊어지지않으셨을까 색색의튤립들이정원가득이던오월드튤립축제어릴때부모님과함께용인자연농원지금의에버랜드튤립축제에가서빨간색땡땡이원피스를입고수없이사진을찍었던추억을곱씹어보게되네요.\n",
      "맞춤법 교정후 17번째 문장: 예쁜 꽃 앞에 앉아 더욱 자세하게 꽃들을 감상하고 있는 딸아이 시댁 앞마당에도 꽃들이 한창 피어나고 있는 중이었지만 이렇게 수많은 꽃들의 에너지를 받으시고 이날 약간은 젊어지지 않으셨을까 색색의 튤립들이 정원 가득이던 오월드 튤립축제 어릴 때 부모님과 함께 용인자연농원 지금의 에버랜드 튤립축제에 가서 빨간색 땡땡이 원피스를 입고 수없이 사진을 찍었던 추억을 곱씹어 보게 되네요.\n",
      "----------------------------------------\n",
      "맞춤법 교정전 18번째 문장: 다양한정원들뿐만이아니고곳곳에분수들이많아서보기만해도시원했던플라워랜드의전경폭포수같이물이떨어지는계단과음악에맞추어춤을추는물줄기들터널분수에서는소리를꽥꽥지르며물줄기사이를아슬아슬하게통과하는아이들의재롱까지더해지고있는중이었어요.\n",
      "맞춤법 교정후 18번째 문장: 다양한 정원들뿐만이 아니고 곳곳에 분수들이 많아서 보기만 해도 시원했던 플라워랜드의 전경 폭포수같이 물이 떨어지는 계단과 음악에 맞추어 춤을 추는 물줄기들 터널분수에서는 소리를 꽥꽥 지르며 물줄기 사이를 아슬아슬하게 통과하는 아이들의 재롱까지 더해지고 있는 중이었어요.\n",
      "----------------------------------------\n",
      "맞춤법 교정전 19번째 문장: 여기에안왔으면대체어쩔뻔했누아이들놀이터도있어서잠시놀수가있었고운치있는전통정원이랑넓은호수까지있어서오월드내에서는가장와볼만한곳이아니었나싶습니다.\n",
      "맞춤법 교정후 19번째 문장: 여기에안왔으면대체어쩔뻔했누아이들놀이터도있어서잠시놀수가있었고운치있는전통정원이랑넓은호수까지있어서오월드내에서는가장와볼만한곳이아니었나싶습니다.\n",
      "----------------------------------------\n",
      "맞춤법 교정전 20번째 문장: 하지 만휠체어서비스는다른대전관광명소지역에비해가장관리가소홀했던곳이어서매우실망이었어요.\n",
      "맞춤법 교정후 20번째 문장: 하지 만 휠체어 서비스는 다른 대전관광명소 지역에 비해 가장 관리가 소홀했던 곳이어서 매우 실망이었어요.\n",
      "----------------------------------------\n",
      "맞춤법 교정전 21번째 문장: 휠체어서비스가가능하다는걸사전에다확인을하고간상황이었는데입장료내고대여소에찾아가보니전혀한대도대여가능한휠체어가없다고해서급당황결국보수가필요해서방치되어있던휠체어를어쩔수없이끌고다니게되면서한국이장애인과노약자에대한배려가얼마나낙후되어있는나라인가하는사실을다시금뼈저리게느꼈던순간이었습니다.\n",
      "맞춤법 교정후 21번째 문장: 휠체어 서비스가 가능하다는 걸 사전에다 확인을 하고 간 상황이었는데 입장료 내고 대여소에 찾아가 보니 전혀 한 대도 대여 가능한 휠체어가 없다고 해서 급당황 결국 보수가 필요해서 방치되어 있던 휠체어를 어쩔 수 없이 끌고 다니게 되면서 한국이 장애인과 노약자에 대한 배려가 얼마나 낙후되어 있는 나라인가 하는 사실을 다시금 뼈저리게 느꼈던 순간이었습니다.\n",
      "----------------------------------------\n",
      "맞춤법 교정전 22번째 문장: 놀이동산에수요가많은유모차는수십대가준비되어있으면서휠체어는단한대도준비가되어있지않다니단지오월드에해당되는이야기만은결코아니었기에더욱마음이씁쓸하기만하네요.\n",
      "맞춤법 교정후 22번째 문장: 놀이동산에 수요가 많은 유모차는 수십 대가 준비되어 있으면서 휠체어는 단 한 대도 준비가 되어있지 않다니 단지 오월드에 해당되는 이야기만은 결코 아니었기에 더욱 마음이 씁쓸하기만 하네요.\n",
      "----------------------------------------\n"
     ]
    }
   ],
   "source": [
    "# 특수 기호 제거하지 않고 맞춤법 검사 수행 \n",
    "# test_list = test_df['text'][1]\n",
    "print(len(test_list)) # 문장 개수\n",
    "\n",
    "for i in range(len(test_list)): # 내용 확인\n",
    "    print(f'맞춤법 교정전 {i}번째 문장: {test_list[i]}')\n",
    "    test_list[i] = ksc.check_spelling(test_list[i])\n",
    "    print(f'맞춤법 교정후 {i}번째 문장: {test_list[i]}')\n",
    "    print('-'*40)"
   ]
  },
  {
   "cell_type": "markdown",
   "id": "8c4aeabc",
   "metadata": {},
   "source": [
    "### hanspell을 활용한 맞춤법 검사"
   ]
  },
  {
   "cell_type": "code",
   "execution_count": 47,
   "id": "525c40f0",
   "metadata": {},
   "outputs": [],
   "source": [
    "from tqdm import tqdm\n",
    "from hanspell import spell_checker"
   ]
  },
  {
   "cell_type": "code",
   "execution_count": 55,
   "id": "5b284f9a",
   "metadata": {},
   "outputs": [
    {
     "data": {
      "text/plain": [
       "23"
      ]
     },
     "execution_count": 55,
     "metadata": {},
     "output_type": "execute_result"
    }
   ],
   "source": [
    "len(test_list)"
   ]
  },
  {
   "cell_type": "code",
   "execution_count": 62,
   "id": "f44c7c15",
   "metadata": {},
   "outputs": [
    {
     "data": {
      "text/plain": [
       "'대전관광명소 오월드 튤립축제 사파리 투어 대전관광명소 중 아이들이 가장 좋아할 만한 장소는 아마 오월드가 아닐까 싶습니다.'"
      ]
     },
     "execution_count": 62,
     "metadata": {},
     "output_type": "execute_result"
    }
   ],
   "source": [
    "result = spell_checker.check(pd.Series(test_list[0])) \n",
    "result.checked"
   ]
  },
  {
   "cell_type": "code",
   "execution_count": 66,
   "id": "ccfaf5ab",
   "metadata": {
    "scrolled": false
   },
   "outputs": [
    {
     "name": "stderr",
     "output_type": "stream",
     "text": [
      "100%|██████████| 23/23 [00:02<00:00,  9.10it/s]\n"
     ]
    }
   ],
   "source": [
    "original_list = test_list\n",
    "\n",
    "for i in tqdm(range(len(test_list))): \n",
    "    try: \n",
    "        result = spell_checker.check(test_list[i]) \n",
    "        test_list[i] = result.checked \n",
    "    except: \n",
    "        print('Error')\n",
    "        pass "
   ]
  },
  {
   "cell_type": "code",
   "execution_count": 64,
   "id": "844710b9",
   "metadata": {
    "scrolled": false
   },
   "outputs": [
    {
     "data": {
      "text/plain": [
       "['대전관광명소 오월드 튤립축제 사파리 투어 대전관광명소 중 아이들이 가장 좋아할 만한 장소는 아마 오월드가 아닐까 싶습니다.',\n",
       " '특히 봄에는 다양한 플라워 축제로 어른들까지 만족시켜 줄 수 있는 장소였어요.',\n",
       " '4월에 있었던 오월드 튤립축제에는 주말이라 그런지 사람들이 차암 많더라고요.',\n",
       " '꽃구경하러 겸사겸사 가긴 했었지만 알록달록 놀이 기고들을 보자마자 흥분하던 아이들 그러나 아이들이 뭔가를 타고 싶어 해도 줄을 많이 서야 하니 아주 골치가 그래도 아침 일찍 도착을 한 덕분에 서너 가지 정도는 적당히 줄을 서고 아이들에게 놀이기구를 태워줄 수가 있었습니다.',\n",
       " '할머니 할아버지가 곁에서 봐주시며 손을 흔들어주시고 계셔서 더욱 즐거웠던 아이들 놀이기구만 몇 개 태워줬는데 어느새 점심시간이 돼버렸어요.',\n",
       " '아이들 챙기랴 부모님 챙기랴 오월드를 잘 즐기는 방법에 대한 팁이 별로 없던 상황에 놀이기구 줄을 서면서 옆에 같이 줄을 서던 다른 엄마 덕에 알게 된 사실은 오월드에서는 사파리 투어는 꼭 하고 가야 한다는 아 그렇군요.',\n",
       " '열심히 마지막으로 줄을 또 한 번 서서 부모님과 아이들을 위해 사파리 투어까지 하게 되었어요.',\n",
       " '동물 모양 예쁜 사파리 투어버스를 타고 부모님과 아이들을 자리에 앉히고 나니다들 기대감 폭발 새로운 동물들을 하나하나 만날 때마다 반가운 함성이 여기저기서 터져 나옵니다.',\n",
       " '우리 아이들도 사파리 투어는 처음이었지만 연로하신 부모님에게는 더 신기한 체험이 되었던 시간이에요.',\n",
       " '마치 아이들을 보는 듯 백두산 호랑이 우리 앞에서 크게 감탄을 하시기도 하고 원숭이들의 빠른 몸짓에 귀엽다며 껄껄 웃으시기도 하시던 부모님 하지만 원래 목적이었던 튤립축제를 보러 가기 위해서는 고난이 아주 많았습니다.',\n",
       " '부모님을 휠체어로 모시고 플라워랜드까지 가는 길이 대부분 언덕을 올라가듯 경사가 가파른 길밖에는 없어서 말이에요.',\n",
       " '동물원 쪽으로 휠체어를 밀고 올라갈 때에도 기나긴 비탈길을 낑낑거리며 올라가던 내가 안쓰러웠는지 중간에 힘 좋으신 몇 분이 도와주시기도 하셨었지요.',\n",
       " '하지만 도저히 플라워랜드까지는 무리라며 주변 사람들이다 고개를 절레절레하지만 원래 목적이 부모님 꽃구경시켜드릴 목적이었는데 너무 아쉽기만 했어요 등줄기에서는 땀이 줄줄 흐르고 있고 자신은 별로 없었지만 고민고민하다가 결국 부딪혀보자.',\n",
       " '뜻이 있으면 길이 있다 플라 워 랜드에 드디어 도착했습니다.',\n",
       " '예쁜 꽃밭들을 마주하면서 아이들 표정도 한껏 밝아지기 시작하네요.',\n",
       " '물론 중간중간 땅이 고르지 못해 여러 번 휠체어를 아이들이 지키고 서있어야만 했고 빈번하게 화장실을 가셔야 하는 아버님 사정 때문에 시간이 많이 지체가 되기도 했었지요.',\n",
       " '하지만 고생 끝에 낙이 온다는 말이 실감될 정도로 멋지게 조성된 화원들을 하나둘씩 마주하면서 포기하지 않고 오길 정말 잘했다 싶었어요.',\n",
       " '예쁜 꽃 앞에 앉아 더욱 자세하게 꽃들을 감상하고 있는 딸아이 시댁 앞마당에도 꽃들이 한창 피어나고 있는 중이었지만 이렇게 수많은 꽃들의 에너지를 받으시고 이날 약간은 젊어지지 않으셨을까 색색의 튤립들이 정원 가득이던 오월드 튤립축제 어릴 때 부모님과 함께 용인자연농원 지금의 에버랜드 튤립축제에 가서 빨간색 땡땡이 원피스를 입고 수없이 사진을 찍었던 추억을 곱씹어 보게 되네요.',\n",
       " '다양한 정원들뿐만이 아니고 곳곳에 분수들이 많아서 보기만 해도 시원했던 플라워랜드의 전경 폭포수같이 물이 떨어지는 계단과 음악에 맞추어 춤을 추는 물줄기들 터널분수에서는 소리를 꽥꽥 지르며 물줄기 사이를 아슬아슬하게 통과하는 아이들의 재롱까지 더해지고 있는 중이었어요.',\n",
       " '여기에안왔으면대체어쩔뻔했누아이들놀이터도있어서잠시놀수가있었고운치있는전통정원이랑넓은호수까지있어서오월드내에서는가장와볼만한곳이아니었나싶습니다.',\n",
       " '하지 만 휠체어 서비스는 다른 대전관광명소 지역에 비해 가장 관리가 소홀했던 곳이어서 매우 실망이었어요.',\n",
       " '휠체어 서비스가 가능하다는 걸 사전에다 확인을 하고 간 상황이었는데 입장료 내고 대여소에 찾아가 보니 전혀 한 대도 대여 가능한 휠체어가 없다고 해서 급당황 결국 보수가 필요해서 방치되어 있던 휠체어를 어쩔 수 없이 끌고 다니게 되면서 한국이 장애인과 노약자에 대한 배려가 얼마나 낙후되어 있는 나라인가 하는 사실을 다시금 뼈저리게 느꼈던 순간이었습니다.',\n",
       " '놀이동산에 수요가 많은 유모차는 수십 대가 준비되어 있으면서 휠체어는 단 한 대도 준비가 되어있지 않다니 단지 오월드에 해당되는 이야기만은 결코 아니었기에 더욱 마음이 씁쓸하기만 하네요.']"
      ]
     },
     "execution_count": 64,
     "metadata": {},
     "output_type": "execute_result"
    }
   ],
   "source": [
    "test_list"
   ]
  },
  {
   "cell_type": "code",
   "execution_count": 67,
   "id": "37703f60",
   "metadata": {
    "scrolled": true
   },
   "outputs": [
    {
     "name": "stderr",
     "output_type": "stream",
     "text": [
      "100%|██████████| 23/23 [00:00<00:00, 189899.59it/s]\n"
     ]
    }
   ],
   "source": [
    "for i in tqdm(range(len(test_list))): \n",
    "    if original_list[i] != test_list[i]:\n",
    "        print(test_list[i])\n",
    "        print(test_list[i])"
   ]
  },
  {
   "cell_type": "markdown",
   "id": "ce4a2d74",
   "metadata": {},
   "source": [
    "맞춤법 교정전과 교정후가 모두 일치하는 것으로 볼 때, hanspell과 py-korean-checker와 동일한 결과를 수행하는 것을 알 수 있습니다. "
   ]
  },
  {
   "cell_type": "markdown",
   "id": "27d8a9a0",
   "metadata": {},
   "source": [
    "하지만, 이라던게 몇몇 문장에서 띄어쓰기 다시 필요하다. "
   ]
  },
  {
   "cell_type": "markdown",
   "id": "54616688",
   "metadata": {},
   "source": [
    "### pykospacing 띄어쓰기 교정"
   ]
  },
  {
   "cell_type": "markdown",
   "id": "38c62dac",
   "metadata": {},
   "source": [
    "* [띄어쓰기 교정 관련 블로그](https://jeongukjae.github.io/posts/korean-spacing-model/)\n",
    "* [kospacing](https://github.com/haven-jeon/PyKoSpacing)\n",
    "* [soyspacing](https://taeguu.tistory.com/55)"
   ]
  },
  {
   "cell_type": "code",
   "execution_count": 68,
   "id": "8c7b8e67",
   "metadata": {},
   "outputs": [],
   "source": [
    "from pykospacing import Spacing # 띄어쓰기 교정 라이브러리 "
   ]
  },
  {
   "cell_type": "code",
   "execution_count": 69,
   "id": "b7228276",
   "metadata": {},
   "outputs": [],
   "source": [
    "spacing = Spacing(rules=['하지만']) # rule을 추가해줄 수 있다. "
   ]
  },
  {
   "cell_type": "code",
   "execution_count": 71,
   "id": "2230d933",
   "metadata": {},
   "outputs": [
    {
     "name": "stderr",
     "output_type": "stream",
     "text": [
      "100%|██████████| 23/23 [00:00<00:00, 28.19it/s]\n"
     ]
    }
   ],
   "source": [
    "for i in tqdm(range(len(test_list))): \n",
    "    try: \n",
    "        test_list[i] = spacing(test_list[i])  \n",
    "    except: \n",
    "        print('Error')\n",
    "        pass "
   ]
  },
  {
   "cell_type": "code",
   "execution_count": 72,
   "id": "57252782",
   "metadata": {},
   "outputs": [
    {
     "data": {
      "text/plain": [
       "'\\n\\n대전관광명소오월드 튤립축제& 사파리투어대전관광명소 중 아이들이 가장 좋아할 만한 장소는 아마\\xa0오월드가 아닐까 싶습니다.특히 봄에는 다양한\\xa0플라워 축제로 어른들까지 만족시켜줄 수 있는 장소였어요.4월에 있었던 오월드 튤립축제에는 주말이라 그런지\\xa0사람들이 차~암 많더라고요.꽃구경하러 겸사겸사 가긴 했었지만알록달록 놀이기구들을 보자마자 흥분하던 아이들.그러나 아이들이 뭔가를 타고 싶어해도 줄을 많이 서야 하니 아주 골치가...그래도 아침일찍 도착을 한 덕분에 서너가지 정도는\\xa0적당히 줄을 서고 아이들에게 놀이기구를 태워줄 수가 있었습니다.할머니, 할아버지가 곁에서 봐주시며 손을 흔들어 주시고계셔서 더욱 즐거웠던 아이들.놀이기구만 몇 개 태워줬는데 어느새 점심시간이 돼버렸어요.아이들 챙기랴~ 부모님 챙기랴~ㅎㅎㅎ오월드를 잘 즐기는 방법에 대한 팁이 별로 없던 상황에놀이기구 줄을 서면서 옆에 같이 줄을 서던 다른 엄마 덕에 알게 된 사실은??오월드에서는 사파리투어는 꼭 하고 가야 한다는...아~~~그렇군요!열심히 마지막으로 줄을 또 한번 서서 부모님과 아이들을 위해 사파리 투어까지 하게 되었어요.동물모양 예쁜 사파리투어 버스를 타고 부모님과 아이들을\\xa0자리에 앉히고 나니 다들 기대감 폭발~새로운 동물들을 하나하나 만날 때마다 반가운 함성이 여기저기서 터져 나옵니다.우리 아이들도 사파리투어는 처음이었지만연로하신 부모님에게는 더\\xa0신기한 체험이 되었던 시간이에요.마치 아이들을 보는 듯, 백두산 호랑이 우리 앞에서\\xa0크게 감탄을 하시기도 하고\\xa0원숭이들의 빠른 몸짓에귀엽다며 껄껄 웃으시기도 하시던 부모님.하지만 원래 목적이었던 튤립축제를 보러 가기 위해서는 고난이 아주 많았습니다.부모님을 휠체어로 모시고 플라워 랜드까지 가는 길이\\xa0대부분 언덕을 올라가듯 경사가 가파른 길밖에는 없어서 말이에요... ㅠ.ㅠ\\xa0동물원 쪽으로\\xa0휠체어를 밀고\\xa0올라갈 때에도 기나긴 비탈 길을 낑낑거리며 올라가던 내가 안쓰러웠는지\\xa0중간에 힘 좋으신 몇 분이 도와주시기도 하셨었지요.\\xa0하지만 도저히 플라워랜드까지는 무리라며 주변 사람들이 다 고개를 절레절레~하지만 원래 목적이 부모님 꽃구경 시켜드릴 목적이었는데 너무 아쉽기만 했어요.등줄기에서는 땀이 줄줄 흐르고 있고자신은 별로 없었지만 고민고민하다가 결국 부딪혀보자!!뜻이 있으면 길이 있다~플.라.워.랜.드.에.드.디.어.도.착.했.습.니.다.\\xa0예쁜 꽃밭들을 마주하면서 아이들 표정도 한껏\\xa0밝아지기 시작하네요.물론 중간중간 땅이 고르지 못해 여러 번 휠체어를 아이들이 지키고 서 있어야만 했고빈번하게 화장실을 가셔야 하는 아버님 사정 때문에시간이 많이 지체가 되기도 했었지요.하지만 고생 끝에 낙이 온다는 말이 실감될 정도로\\xa0멋지게 조성된 화원들을 하나둘씩 마주하면서 포기하지 않고 오길 정말 잘했다 싶었어요!예쁜 꽃 앞에 앉아 더욱 자세하게 꽃들을 감상하고 있는 딸아이.시댁 앞마당에도 꽃들이 한창 피어나고 있는 중이었지만이렇게 수많은 꽃들의 에너지를 받으시고 이날\\xa0약간은 젊어지지 않으셨을까...ㅎㅎㅎ색색의 튤립들이 정원 가득이던 오월드 튤립축제~어릴 때 부모님과 함께\\xa0용인자연농원(지금의 에버랜드) 튤립축제에 가서빨간색 땡땡이 원피스를 입고수없이 사진을 찍었던 추억을 곱씹어 보게 되네요.다양한 정원들뿐만이 아니고\\xa0곳곳에 분수들이 많아서 보기만 해도 시원했던 플라워 랜드의 전경폭포수같이 물이 떨어지는 계단과 음악에 맞추어 춤을 추는 물줄기들.\\xa0터널 분수에서는 소리를 꽥꽥~지르며\\xa0물줄기 사이를 아슬아슬하게\\xa0통과하는 아이들의 재롱까지 더해지고 있는 중이었어요.여기에 안 왔으면 대체 어쩔뻔 했누~~~아이들 놀이터도 있어서 잠시 놀 수가\\xa0있었고\\xa0운치 있는 전통 정원이랑\\xa0넓은 호수까지 있어서 오월드 내에서는 가장 와볼만한 곳이 아니었나 싶습니다.하. 지. 만... 휠체어 서비스는\\xa0다른 대전관광명소 지역에 비해 가장 관리가 소홀했던 곳이어서 매우 실망이었어요.휠체어서비스가 가능하다는 걸 사전에 다 확인을 하고 간 상황이었는데입장료 내고 대여소에 찾아가 보니\\xa0전혀 한 대도 대여가능한 휠체어가 없다고 해서 급당황~\\xa0결국 보수가 필요해서 방치되어 있던 휠체어를 어쩔 수 없이 끌고 다니게 되면서\\xa0한국이 장애인과 노약자에 대한 배려가 얼마나 낙후되어 있는 나라인가 하는 사실을 다시금 뼈저리게\\xa0느꼈던 순간이었습니다.\\xa0놀이동산에 수요가 많은\\xa0유모차는 수십 대가 준비되어 있으면서휠체어는 단 한 대도 준비가 되어 있지 않다니!단지 오월드에 해당되는 이야기만은 결코 아니었기에 더욱 마음이 씁쓸하기만 하네요~\\xa0\\xa0\\n\\n'"
      ]
     },
     "execution_count": 72,
     "metadata": {},
     "output_type": "execute_result"
    }
   ],
   "source": [
    "origin_list # raw data "
   ]
  },
  {
   "cell_type": "code",
   "execution_count": 73,
   "id": "6521a25d",
   "metadata": {
    "scrolled": false
   },
   "outputs": [
    {
     "data": {
      "text/plain": [
       "'대전 관광명소 오월드 튤립축제 사파리 투어 대전 관광명소 중 아이들이 가장 좋아할 만한 장소는 아마 오월드가 아닐까 싶습니다. 특히 봄에는 다양한 플라워 축제로 어른들까지 만족시켜 줄 수 있는 장소였어요. 4월에 있었던 오월드 튤립축제에는 주말이라 그런지 사람들이 차암 많더라고요. 꽃구경하러 겸사 겸사 가 긴 했었지만 알록달록 놀이 기고들을 보자마자 흥분하던 아이들 그러나 아이들이 뭔가를 타고 싶어 해도 줄을 많이 서야 하니 아주 골치가 그래도 아침 일찍 도착을 한 덕분에 서너 가지 정도는 적당히 줄을 서 고 아이들에게 놀이기구를 태워 줄 수가 있었습니다. 할머니 할아버지가 곁에서 봐주시며 손을 흔들어주시고 계셔서 더욱 즐거웠던 아이들 놀이기구만 몇 개 태워줬는데 어느새 점심시간이 돼버렸어요. 아이들 챙기랴 부모님 챙기랴 오월드를 잘 즐기는 방법에 대한 팁이 별로 없던 상황에 놀이기구 줄을 서면서 옆에 같이 줄을 서던 다른 엄마 덕에 알게 된 사실은 오월드에서는 사파리 투어는 꼭 하고 가야 한다는 아 그렇군요. 열심히 마지막으로 줄을 또 한 번 서서 부모님과 아이들을 위해 사파리 투어까지 하게 되었어요. 동물 모양 예쁜 사파리 투어버스를 타고 부모님과 아이들을 자리에 앉히고 나니 다들 기대감 폭발 새로운 동물들을 하나 하나 만날 때마다 반가운 함성이 여기저기서 터져 나옵니다. 우리 아이들도 사파리 투어는 처음이었지만 연로하신 부모님에게는 더 신기한 체험이 되었던 시간이에요. 마치 아이들을 보는 듯 백두산 호랑이 우리 앞에서 크게 감탄을 하시기도 하고 원숭이들의 빠른 몸짓에 귀엽다며 껄껄 웃으시기도 하시던 부모님 하지만 원래 목적이었던 튤립축제를 보러 가 기 위해서는 고난이 아주 많았습니다. 부모님을 휠체어로 모시고 플라워랜드까지 가는 길이 대부분 언덕을 올라가듯 경사가 가파른 길밖에는 없어서 말이에요. 동물원 쪽으로 휠체어를 밀고 올라갈 때에도 기나 긴 비탈길을 낑낑거리며 올라가던 내가 안쓰러웠는지 중간에 힘 좋으신 몇 분이 도와 주시기도 하셨었지요. 하지만 도저히 플라워랜드까지는 무리라며 주변 사람들이 다 고개를 절레절레 하지만 원래 목적이 부모님 꽃구경시켜드릴 목적이었는데 너무 아쉽기만 했어요 등 줄기에서는 땀이 줄줄 흐르고 있고 자신은 별로 없었지만 고민 고민하다가 결국 부딪혀보자. 뜻이 있으면 길이 있다 플라 워 랜드에 드디어 도착했습니다. 예쁜 꽃밭들을 마주하면서 아이들 표정도 한껏 밝아지기 시작하네요. 물론 중간 중간 땅이 고르지 못해 여러 번 휠체어를 아이들이 지키고 서 있어야만 했고 빈번하게 화장실을 가셔야 하는 아버님 사정 때문에 시간이 많이 지체가 되기도 했었지요. 하지만 고생 끝에 낙이 온다는 말이 실감될 정도로 멋지게 조성된 화원들을 하나 둘씩 마주하면서 포기하지 않고 오길 정말 잘했다 싶었어요. 예쁜 꽃 앞에 앉아 더욱 자세하게 꽃들을 감상하고 있는 딸아이 시댁 앞마당에도 꽃들이 한창 피어나고 있는 중이었지만 이렇게 수많은 꽃들의 에너지를 받으시고 이 날 약간은 젊어지지 않으셨을까 색색의 튤립들이 정원 가득이던 오월드 튤립축제 어릴 때 부모님과 함께 용인 자연농원 지금의 에버랜드 튤립축제에 가서 빨간색 땡땡이 원피스를 입고 수 없이 사진을 찍었 던 추 억을 곱씹어 보게 되네요. 다양한 정원들뿐만이 아니고 곳곳에 분수들이 많아서 보기만 해도 시원했던 플라워랜드의 전경 폭포수 같이 물이 떨어지는 계단과 음악에 맞추어 춤을 추는 물줄기들 터널 분수에서는 소리를 꽥꽥 지르며 물줄기 사이를 아슬아슬하게 통과하는 아이들의 재롱까지 더해지고 있는 중이었어요. 여기에 안 왔으면 대체 어쩔 뻔 했누아 이들 놀이터도 있어서 잠시 놀 수가 있었고 운치 있는 전통정원이랑 넓은 호수까지 있어서 오월드 내에서는 가장 와 볼 만한 곳이 아니었나 싶습니다. 하지만 휠체어 서비스는 다른 대전 관광명소 지역에 비해 가장 관리가 소홀했던 곳이어서 매우 실망이었어요. 휠체어 서비스가 가능하다는 걸 사전에다 확인을 하고 간 상황이었는데 입 장료 내고 대여소에 찾아가 보니 전혀 한 대도 대여 가능한 휠체어가 없다고 해서 급 당황 결국 보수가 필요해서 방치되어 있던 휠체어를 어 쩔 수 없이 끌고 다니게 되면서 한국이 장애인과 노약자에 대한 배려가 얼마나 낙후되어 있는 나라인 가 하는 사실을 다시금 뼈저리게 느꼈던 순간이었 습니다. 놀이동산에 수요가 많은 유모차는 수십 대가 준비되어 있으면서 휠체어는 단 한 대도 준비가 되어 있지 않다니 단지 오월드에 해당되는 이야기만은 결코 아니었기에 더욱 마음이 씁쓸하기만 하네요.'"
      ]
     },
     "execution_count": 73,
     "metadata": {},
     "output_type": "execute_result"
    }
   ],
   "source": [
    "filtered_list = ' '.join(test_list) # cleansing data\n",
    "filtered_list"
   ]
  },
  {
   "cell_type": "markdown",
   "id": "8e8116e7",
   "metadata": {},
   "source": [
    "### soyspacing 띄어쓰기 교정"
   ]
  },
  {
   "cell_type": "markdown",
   "id": "66d33255",
   "metadata": {},
   "source": [
    "# 목표2: 동반자 유형 추출!! "
   ]
  },
  {
   "cell_type": "code",
   "execution_count": 74,
   "id": "55b0bc46",
   "metadata": {},
   "outputs": [],
   "source": [
    "companions = {\n",
    "    '가족친지': ['아기', '가족', '친척', '사촌', '부모님', '시부모', '장인어른', '아버님', '어머님', '조카', '이모', '고모', '삼촌', '할아버지', '할머니', '친형', '친언니', '친누나', '친동생', '친오빠', '엄마', '아빠', '딸', '아들', '자식'],\n",
    "    '친구연인': ['동기', '후배', '선배', '남자친구', '여자친구', '자기', '과동기', '찐친', '절친', '친구', '언니', '동생', '형', '오빠'],\n",
    "    '직장': ['직장', '회사', '주임님', '회사동료', '사장님', '직장동료', '직장동기', '회사동기', '회사', '직장선배', '직장후배', '선임', '후임', '차장', '부장', '부장님', '차장님', '대리님'],\n",
    "    '학교': ['학과', '학교', '현장견학', '현장체험', '소풍', '수학여행']\n",
    "}"
   ]
  },
  {
   "cell_type": "code",
   "execution_count": 75,
   "id": "82fd9e02",
   "metadata": {
    "scrolled": true
   },
   "outputs": [
    {
     "data": {
      "text/plain": [
       "dict_keys(['가족친지', '친구연인', '직장', '학교'])"
      ]
     },
     "execution_count": 75,
     "metadata": {},
     "output_type": "execute_result"
    }
   ],
   "source": [
    "companions.keys()"
   ]
  },
  {
   "cell_type": "markdown",
   "id": "8ebe81d4",
   "metadata": {},
   "source": [
    "## 단어 빈도수 기반해서 동반자 유형 추출"
   ]
  },
  {
   "cell_type": "code",
   "execution_count": 76,
   "id": "cd4a7b86",
   "metadata": {
    "scrolled": false
   },
   "outputs": [
    {
     "name": "stdout",
     "output_type": "stream",
     "text": [
      "부모님\n",
      "아버님\n",
      "할아버지\n",
      "할머니\n",
      "엄마\n",
      "딸\n",
      "['가족친지', '가족친지', '가족친지', '가족친지', '가족친지', '가족친지']\n"
     ]
    }
   ],
   "source": [
    "companion_list = []\n",
    "\n",
    "for key, value in companions.items():\n",
    "#     print(value)\n",
    "    for v in value: \n",
    "        if v in filtered_list:\n",
    "            print(v)\n",
    "            companion_list.append(key)\n",
    "\n",
    "print(companion_list)"
   ]
  },
  {
   "cell_type": "markdown",
   "id": "4f083d02",
   "metadata": {},
   "source": [
    "여러 종류가 언급될 수 있으므로 가장 많이 언급된 것을 해당 동반자 유형으로 취급한다."
   ]
  },
  {
   "cell_type": "code",
   "execution_count": 77,
   "id": "8b71ba95",
   "metadata": {},
   "outputs": [
    {
     "name": "stdout",
     "output_type": "stream",
     "text": [
      "Counter({'가족친지': 6})\n"
     ]
    }
   ],
   "source": [
    "from collections import Counter\n",
    "\n",
    "freq = Counter(companion_list)\n",
    "print(freq)"
   ]
  },
  {
   "cell_type": "code",
   "execution_count": 78,
   "id": "71d41c7e",
   "metadata": {
    "scrolled": true
   },
   "outputs": [
    {
     "data": {
      "text/plain": [
       "'가족친지'"
      ]
     },
     "execution_count": 78,
     "metadata": {},
     "output_type": "execute_result"
    }
   ],
   "source": [
    "companion_type = max(freq.keys(), key=(lambda k: freq[k]))\n",
    "companion_type"
   ]
  },
  {
   "cell_type": "markdown",
   "id": "3032aff9",
   "metadata": {},
   "source": [
    "## 조사 붙은 경우 고려한 동반자 유형 추출"
   ]
  },
  {
   "cell_type": "code",
   "execution_count": 79,
   "id": "94b63ad1",
   "metadata": {},
   "outputs": [],
   "source": [
    "# 띄어쓰기 기반으로 문단을 한 단어씩 구분\n",
    "filtered_words = filtered_list.split(' ')"
   ]
  },
  {
   "cell_type": "code",
   "execution_count": 80,
   "id": "baa36353",
   "metadata": {},
   "outputs": [],
   "source": [
    "josa = ['랑', '와', '이와', '하고', '과 같이', '와 같이', '을', '를', '은', '는', '이', '가', '와 함께', '과 함께']"
   ]
  },
  {
   "cell_type": "code",
   "execution_count": 81,
   "id": "4367b20a",
   "metadata": {},
   "outputs": [],
   "source": [
    "# 추가 아이디어: 갔다, 모시고, 같이 왔다, 등 여행을 간 것에 대한 동사도 같이 등장해야함"
   ]
  },
  {
   "cell_type": "code",
   "execution_count": 82,
   "id": "9b5c91df",
   "metadata": {},
   "outputs": [
    {
     "data": {
      "text/plain": [
       "False"
      ]
     },
     "execution_count": 82,
     "metadata": {},
     "output_type": "execute_result"
    }
   ],
   "source": [
    "'와' in ['엄마와', '아빠와']"
   ]
  },
  {
   "cell_type": "code",
   "execution_count": 83,
   "id": "eeaaf394",
   "metadata": {
    "scrolled": false
   },
   "outputs": [
    {
     "name": "stdout",
     "output_type": "stream",
     "text": [
      "['전통정원이랑', '도와', '감상하고', '기고들을', '줄을', '도착을', '줄을', '손을', '줄을', '줄을', '줄을', '아이들을', '아이들을', '동물들을', '아이들을', '감탄을', '부모님을', '언덕을', '비탈길을', '꽃밭들을', '화장실을', '화원들을', '꽃들을', '사진을', '억을', '춤을', '확인을', '사실을', '뭔가를', '놀이기구를', '오월드를', '투어버스를', '튤립축제를', '휠체어를', '고개를', '휠체어를', '에너지를', '원피스를', '소리를', '사이를', '휠체어를', '사실은', '자신은', '수많은', '약간은', '넓은', '많은', '이야기만은', '장소는', '봄에는', '있는', '튤립축제에는', '정도는', '즐기는', '오월드에서는', '투어는', '한다는', '투어는', '부모님에게는', '보는', '위해서는', '가는', '길밖에는', '플라워랜드까지는', '줄기에서는', '하는', '온다는', '있는', '있는', '떨어지는', '추는', '분수에서는', '통과하는', '있는', '있는', '내에서는', '서비스는', '가능하다는', '있는', '하는', '유모차는', '휠체어는', '해당되는', '아이들이', '사람들이', '놀이', '아이들이', '많이', '점심시간이', '팁이', '같이', '함성이', '체험이', '호랑이', '고난이', '길이', '분이', '사람들이', '목적이', '땀이', '뜻이', '길이', '땅이', '아이들이', '시간이', '많이', '낙이', '말이', '딸아이', '꽃들이', '튤립들이', '땡땡이', '없이', '정원들뿐만이', '분수들이', '같이', '물이', '곳이', '없이', '한국이', '마음이', '오월드가', '골치가', '수가', '할아버지가', '경사가', '내가', '고민하다가', '지체가', '수가', '관리가', '서비스가', '찾아가', '휠체어가', '보수가', '배려가', '수요가', '대가', '준비가']\n"
     ]
    }
   ],
   "source": [
    "josa_list = []\n",
    "\n",
    "for j in josa:\n",
    "    for word in filtered_words:\n",
    "        if j in word and word.endswith(j) and len(word) > len(j):\n",
    "#             print(word)\n",
    "            josa_list.append(word)\n",
    "print(josa_list)"
   ]
  },
  {
   "cell_type": "code",
   "execution_count": 84,
   "id": "a3d49977",
   "metadata": {},
   "outputs": [
    {
     "name": "stdout",
     "output_type": "stream",
     "text": [
      "['가족친지', '가족친지', '가족친지', '가족친지', '가족친지', '가족친지']\n"
     ]
    }
   ],
   "source": [
    "for key, value in companions.items():\n",
    "#     print(value)\n",
    "    for v in value: \n",
    "        if v in josa_list:\n",
    "            print(v)\n",
    "            companion_list.append(key)\n",
    "\n",
    "print(companion_list)"
   ]
  },
  {
   "cell_type": "code",
   "execution_count": 85,
   "id": "18329425",
   "metadata": {},
   "outputs": [
    {
     "name": "stdout",
     "output_type": "stream",
     "text": [
      "Counter({'가족친지': 6})\n"
     ]
    }
   ],
   "source": [
    "from collections import Counter\n",
    "\n",
    "freq = Counter(companion_list)\n",
    "print(freq)"
   ]
  },
  {
   "cell_type": "code",
   "execution_count": 86,
   "id": "8423ac11",
   "metadata": {},
   "outputs": [
    {
     "data": {
      "text/plain": [
       "'가족친지'"
      ]
     },
     "execution_count": 86,
     "metadata": {},
     "output_type": "execute_result"
    }
   ],
   "source": [
    "companion_type = max(freq.keys(), key=(lambda k: freq[k]))\n",
    "companion_type"
   ]
  },
  {
   "cell_type": "markdown",
   "id": "d627c83f",
   "metadata": {},
   "source": [
    "해당 동반자 유형 단어가 언급된 문장을 뽑아봐야할듯    \n",
    "mecab => 갔다, 모시고 갔다 동사원형이 있는지 확인 "
   ]
  },
  {
   "cell_type": "markdown",
   "id": "93546ef0",
   "metadata": {},
   "source": [
    "# 목표3: 빈도수 높은 단어 추출!!"
   ]
  },
  {
   "cell_type": "markdown",
   "id": "4efd72e6",
   "metadata": {},
   "source": [
    "관광지에 해당하는 단어들은 고유명사이기 때문에 해당하는 단어들을 추출하기 위해선 konlpy보다 sonlpy가 성능이 더 좋다고 알려져있습니다. konlpy는 띄어쓰기에 강한 nlp라이브러리입니다. \n",
    "* [참고 블로그](https://git.ajou.ac.kr/open-source-2018-spring/python_Korean_NLP/-/tree/master)"
   ]
  },
  {
   "cell_type": "code",
   "execution_count": 87,
   "id": "f336c4e6",
   "metadata": {},
   "outputs": [],
   "source": [
    "from soynlp.noun import LRNounExtractor\n",
    "from soynlp.noun import LRNounExtractor_v2\n",
    "from soynlp.noun import NewsNounExtractor\n",
    "\n",
    "\n",
    "def get_noun_sorted_by_frequency(noun_extractor):\n",
    "    \"\"\"\n",
    "    Description\n",
    "    이미 학습되어 있는 noun_extractor의 noun을 \n",
    "    frequency 내림차순으로 정렬하여 리턴함.\n",
    "    \"\"\"\n",
    "    return_lst = list()\n",
    "    nouns = noun_extractor.extract()\n",
    "    for (each_noun, each_noun_info) in nouns.items():\n",
    "        each_noun_dict = {\n",
    "            \"noun\": each_noun,\n",
    "            \"frequency\": each_noun_info.frequency, \n",
    "            \"score\": each_noun_info.score\n",
    "        }\n",
    "        return_lst.append(each_noun_dict)\n",
    "    return_lst = sorted(return_lst, key=lambda x: x['frequency'], reverse=True)\n",
    "    return return_lst"
   ]
  },
  {
   "cell_type": "code",
   "execution_count": 88,
   "id": "91de9e25",
   "metadata": {},
   "outputs": [
    {
     "name": "stdout",
     "output_type": "stream",
     "text": [
      "/home/aiffel-dj19/anaconda3/envs/aiffel/lib/python3.7/site-packages/soynlp\n",
      "local variable 'f' referenced before assignment\n",
      "local variable 'f' referenced before assignment\n"
     ]
    }
   ],
   "source": [
    "noun_extractor_dict = {\n",
    "    \"LRNounExtractor\": LRNounExtractor(verbose=False), \n",
    "    \"LRNounExtractor_v2\": LRNounExtractor_v2(verbose=False), \n",
    "    \"NewsNounExtractor\": NewsNounExtractor(verbose=False)\n",
    "}"
   ]
  },
  {
   "cell_type": "code",
   "execution_count": 89,
   "id": "e7d5f3ff",
   "metadata": {
    "scrolled": false
   },
   "outputs": [
    {
     "name": "stdout",
     "output_type": "stream",
     "text": [
      "24\n"
     ]
    }
   ],
   "source": [
    "filtered_sens = kss.split_sentences(filtered_list)\n",
    "print(len(filtered_sens))"
   ]
  },
  {
   "cell_type": "code",
   "execution_count": 90,
   "id": "e9e1c35b",
   "metadata": {},
   "outputs": [
    {
     "name": "stdout",
     "output_type": "stream",
     "text": [
      "== extractor: LRNounExtractor\n",
      "{'noun': '아이들', 'frequency': 12, 'score': 0.752168625}\n",
      "{'noun': '휠체어', 'frequency': 8, 'score': 0.6755458}\n",
      "{'noun': '부모님', 'frequency': 7, 'score': 0.87611575}\n",
      "{'noun': '오월드', 'frequency': 7, 'score': 0.9988863333333334}\n",
      "{'noun': '튤립축제', 'frequency': 4, 'score': 0.9996625}\n",
      "----------------------------------------------------------------------------------------------------\n",
      "== extractor: LRNounExtractor_v2\n",
      "{'noun': '부모님', 'frequency': 8, 'score': 1.0}\n",
      "{'noun': '오월드', 'frequency': 8, 'score': 1.0}\n",
      "{'noun': '휠체어', 'frequency': 7, 'score': 1.0}\n",
      "{'noun': '줄', 'frequency': 7, 'score': 0.7777777777777778}\n",
      "{'noun': '아이들', 'frequency': 6, 'score': 1.0}\n",
      "{'noun': '대', 'frequency': 6, 'score': 0.7142857142857143}\n",
      "{'noun': '수', 'frequency': 6, 'score': 1.0}\n",
      "{'noun': '튤립축제', 'frequency': 5, 'score': 1.0}\n",
      "{'noun': '투어', 'frequency': 4, 'score': 0.8}\n",
      "{'noun': '꽃', 'frequency': 4, 'score': 1.0}\n",
      "{'noun': '플라워랜드', 'frequency': 3, 'score': 1.0}\n",
      "{'noun': '목적', 'frequency': 3, 'score': 1.0}\n",
      "{'noun': '중간', 'frequency': 3, 'score': 1.0}\n",
      "{'noun': '때', 'frequency': 3, 'score': 1.0}\n",
      "{'noun': '길', 'frequency': 3, 'score': 1.0}\n",
      "{'noun': '놀이기구', 'frequency': 2, 'score': 1.0}\n",
      "{'noun': '서비스', 'frequency': 2, 'score': 1.0}\n",
      "{'noun': '상황', 'frequency': 2, 'score': 1.0}\n",
      "{'noun': '사실', 'frequency': 2, 'score': 1.0}\n",
      "{'noun': '분수', 'frequency': 2, 'score': 1.0}\n",
      "----------------------------------------------------------------------------------------------------\n",
      "== extractor: NewsNounExtractor\n",
      "before postprocessing 41\n",
      "_noun_scores_ 10\n",
      "after postprocessing 9\n",
      "{'noun': '아이들', 'frequency': 13, 'score': 0.7797054444444445}\n",
      "{'noun': '오월드', 'frequency': 8, 'score': 0.99916475}\n",
      "{'noun': '부모님', 'frequency': 8, 'score': 0.9008925999999999}\n",
      "{'noun': '휠체어', 'frequency': 8, 'score': 0.7291771666666667}\n",
      "{'noun': '튤립축제', 'frequency': 5, 'score': 0.999699}\n",
      "{'noun': '놀이기구', 'frequency': 3, 'score': 0.9755149999999999}\n",
      "{'noun': '목적', 'frequency': 3, 'score': 0.9997283333333332}\n",
      "{'noun': '플라워랜드', 'frequency': 3, 'score': 0.9998256666666667}\n",
      "{'noun': '꽃들', 'frequency': 3, 'score': 0.8345919999999999}\n",
      "----------------------------------------------------------------------------------------------------\n"
     ]
    }
   ],
   "source": [
    "for noun_ext_name, noun_ext in noun_extractor_dict.items():\n",
    "    # train\n",
    "    noun_ext.train(filtered_sens)\n",
    "    print(f\"== extractor: {noun_ext_name}\")\n",
    "    # noun을 빈도 내림차순으로 정렬하여 리턴\n",
    "    noun_lst = get_noun_sorted_by_frequency(noun_ext)\n",
    "    for noun in noun_lst[:20]:\n",
    "        print(noun)\n",
    "    print(\"--\" * 50)"
   ]
  },
  {
   "cell_type": "code",
   "execution_count": 91,
   "id": "9b328932",
   "metadata": {
    "scrolled": true
   },
   "outputs": [
    {
     "name": "stdout",
     "output_type": "stream",
     "text": [
      "아이들\n",
      "부모님\n",
      "휠체어\n",
      "튤립축제\n",
      "놀이기구\n",
      "목적\n",
      "플라워랜드\n",
      "꽃들\n",
      "--------------------\n",
      "검색 관광지명인 오월드가 8번 언급됐습니다.\n"
     ]
    }
   ],
   "source": [
    "for noun_dict in noun_lst:\n",
    "    target_freq = 0\n",
    "    if target in noun_dict['noun']:\n",
    "        target_freq = noun_dict.get('frequency')\n",
    "        continue\n",
    "    print(noun_dict.get('noun'))\n",
    "print('-'*20)\n",
    "print(f'검색 관광지명인 {target}가 {target_freq}번 언급됐습니다.')"
   ]
  },
  {
   "cell_type": "markdown",
   "id": "0d6cb540",
   "metadata": {},
   "source": [
    "단순히 단어만 보면, 방문 이유나 목적을 알기 어려움. 그래서 문장을 가져오는게 좀더 나을거 같음..? \n",
    "[관광지 설명](https://www.daejeon.go.kr/tou/sitemap.do)을 보고서"
   ]
  }
 ],
 "metadata": {
  "kernelspec": {
   "display_name": "aiffel",
   "language": "python",
   "name": "aiffel"
  },
  "language_info": {
   "codemirror_mode": {
    "name": "ipython",
    "version": 3
   },
   "file_extension": ".py",
   "mimetype": "text/x-python",
   "name": "python",
   "nbconvert_exporter": "python",
   "pygments_lexer": "ipython3",
   "version": "3.7.10"
  },
  "toc": {
   "base_numbering": 1,
   "nav_menu": {},
   "number_sections": true,
   "sideBar": true,
   "skip_h1_title": false,
   "title_cell": "Table of Contents",
   "title_sidebar": "Contents",
   "toc_cell": false,
   "toc_position": {
    "height": "calc(100% - 180px)",
    "left": "10px",
    "top": "150px",
    "width": "183.797px"
   },
   "toc_section_display": true,
   "toc_window_display": false
  }
 },
 "nbformat": 4,
 "nbformat_minor": 5
}
